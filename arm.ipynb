{
 "cells": [
  {
   "cell_type": "code",
   "execution_count": 2,
   "metadata": {},
   "outputs": [],
   "source": [
    "\n"
   ]
  },
  {
   "cell_type": "code",
   "execution_count": 1,
   "metadata": {},
   "outputs": [
    {
     "ename": "ImportError",
     "evalue": "No module named 'apyori'",
     "output_type": "error",
     "traceback": [
      "\u001b[0;31m---------------------------------------------------------------------------\u001b[0m",
      "\u001b[0;31mImportError\u001b[0m                               Traceback (most recent call last)",
      "\u001b[0;32m<ipython-input-1-30d8fe84ea5e>\u001b[0m in \u001b[0;36m<module>\u001b[0;34m\u001b[0m\n\u001b[1;32m      2\u001b[0m \u001b[0;32mimport\u001b[0m \u001b[0mnumpy\u001b[0m \u001b[0;32mas\u001b[0m \u001b[0mnp\u001b[0m \u001b[0;31m# linear algebra\u001b[0m\u001b[0;34m\u001b[0m\u001b[0m\n\u001b[1;32m      3\u001b[0m \u001b[0;32mimport\u001b[0m \u001b[0mpandas\u001b[0m \u001b[0;32mas\u001b[0m \u001b[0mpd\u001b[0m \u001b[0;31m# data processing, CSV file I/O (e.g. pd.read_csv)\u001b[0m\u001b[0;34m\u001b[0m\u001b[0m\n\u001b[0;32m----> 4\u001b[0;31m \u001b[0;32mfrom\u001b[0m \u001b[0mapyori\u001b[0m \u001b[0;32mimport\u001b[0m \u001b[0mapriori\u001b[0m\u001b[0;34m\u001b[0m\u001b[0m\n\u001b[0m\u001b[1;32m      5\u001b[0m \u001b[0;34m\u001b[0m\u001b[0m\n\u001b[1;32m      6\u001b[0m \u001b[0;31m# Input data files are available in the \"../input/\" directory.\u001b[0m\u001b[0;34m\u001b[0m\u001b[0;34m\u001b[0m\u001b[0m\n",
      "\u001b[0;31mImportError\u001b[0m: No module named 'apyori'"
     ]
    }
   ],
   "source": [
    "%matplotlib inline\n",
    "import numpy as np # linear algebra\n",
    "import pandas as pd # data processing, CSV file I/O (e.g. pd.read_csv)\n",
    "from apyori import apriori\n",
    "\n",
    "# Input data files are available in the \"../input/\" directory.\n",
    "# For example, running this (by clicking run or pressing Shift+Enter) will list the files in the input directory\n",
    "\n",
    "#import os\n",
    "#print(os.listdir(\"/home/new/Downloads/steam-200k.csv\"))\n",
    "import os\n",
    "import pandas as pd\n",
    "os.chdir(\"/home/new/Downloads\")\n",
    "data = pd.read_csv(\"steam-200k.csv\",nrows=10000)\n",
    "data.head()"
   ]
  },
  {
   "cell_type": "code",
   "execution_count": 3,
   "metadata": {},
   "outputs": [
    {
     "data": {
      "text/html": [
       "<div>\n",
       "<style scoped>\n",
       "    .dataframe tbody tr th:only-of-type {\n",
       "        vertical-align: middle;\n",
       "    }\n",
       "\n",
       "    .dataframe tbody tr th {\n",
       "        vertical-align: top;\n",
       "    }\n",
       "\n",
       "    .dataframe thead th {\n",
       "        text-align: right;\n",
       "    }\n",
       "</style>\n",
       "<table border=\"1\" class=\"dataframe\">\n",
       "  <thead>\n",
       "    <tr style=\"text-align: right;\">\n",
       "      <th></th>\n",
       "      <th>InvoiceNo</th>\n",
       "      <th>StockCode</th>\n",
       "      <th>Description</th>\n",
       "      <th>Quantity</th>\n",
       "      <th>InvoiceDate</th>\n",
       "      <th>UnitPrice</th>\n",
       "      <th>CustomerID</th>\n",
       "      <th>Country</th>\n",
       "    </tr>\n",
       "  </thead>\n",
       "  <tbody>\n",
       "    <tr>\n",
       "      <th>0</th>\n",
       "      <td>536365</td>\n",
       "      <td>85123A</td>\n",
       "      <td>WHITE HANGING HEART T-LIGHT HOLDER</td>\n",
       "      <td>6</td>\n",
       "      <td>12/1/2010 8:26</td>\n",
       "      <td>2.55</td>\n",
       "      <td>17850.0</td>\n",
       "      <td>United Kingdom</td>\n",
       "    </tr>\n",
       "    <tr>\n",
       "      <th>1</th>\n",
       "      <td>536365</td>\n",
       "      <td>71053</td>\n",
       "      <td>WHITE METAL LANTERN</td>\n",
       "      <td>6</td>\n",
       "      <td>12/1/2010 8:26</td>\n",
       "      <td>3.39</td>\n",
       "      <td>17850.0</td>\n",
       "      <td>United Kingdom</td>\n",
       "    </tr>\n",
       "    <tr>\n",
       "      <th>2</th>\n",
       "      <td>536365</td>\n",
       "      <td>84406B</td>\n",
       "      <td>CREAM CUPID HEARTS COAT HANGER</td>\n",
       "      <td>8</td>\n",
       "      <td>12/1/2010 8:26</td>\n",
       "      <td>2.75</td>\n",
       "      <td>17850.0</td>\n",
       "      <td>United Kingdom</td>\n",
       "    </tr>\n",
       "    <tr>\n",
       "      <th>3</th>\n",
       "      <td>536365</td>\n",
       "      <td>84029G</td>\n",
       "      <td>KNITTED UNION FLAG HOT WATER BOTTLE</td>\n",
       "      <td>6</td>\n",
       "      <td>12/1/2010 8:26</td>\n",
       "      <td>3.39</td>\n",
       "      <td>17850.0</td>\n",
       "      <td>United Kingdom</td>\n",
       "    </tr>\n",
       "    <tr>\n",
       "      <th>4</th>\n",
       "      <td>536365</td>\n",
       "      <td>84029E</td>\n",
       "      <td>RED WOOLLY HOTTIE WHITE HEART.</td>\n",
       "      <td>6</td>\n",
       "      <td>12/1/2010 8:26</td>\n",
       "      <td>3.39</td>\n",
       "      <td>17850.0</td>\n",
       "      <td>United Kingdom</td>\n",
       "    </tr>\n",
       "  </tbody>\n",
       "</table>\n",
       "</div>"
      ],
      "text/plain": [
       "  InvoiceNo StockCode                          Description  Quantity  \\\n",
       "0    536365    85123A   WHITE HANGING HEART T-LIGHT HOLDER         6   \n",
       "1    536365     71053                  WHITE METAL LANTERN         6   \n",
       "2    536365    84406B       CREAM CUPID HEARTS COAT HANGER         8   \n",
       "3    536365    84029G  KNITTED UNION FLAG HOT WATER BOTTLE         6   \n",
       "4    536365    84029E       RED WOOLLY HOTTIE WHITE HEART.         6   \n",
       "\n",
       "      InvoiceDate  UnitPrice  CustomerID         Country  \n",
       "0  12/1/2010 8:26       2.55     17850.0  United Kingdom  \n",
       "1  12/1/2010 8:26       3.39     17850.0  United Kingdom  \n",
       "2  12/1/2010 8:26       2.75     17850.0  United Kingdom  \n",
       "3  12/1/2010 8:26       3.39     17850.0  United Kingdom  \n",
       "4  12/1/2010 8:26       3.39     17850.0  United Kingdom  "
      ]
     },
     "execution_count": 3,
     "metadata": {},
     "output_type": "execute_result"
    }
   ],
   "source": [
    "# read 10000 rows from the csv\n",
    "data = pd.read_csv('ecommerce-data.csv', header = 0, nrows=10000)\n",
    "data.head()"
   ]
  },
  {
   "cell_type": "code",
   "execution_count": 4,
   "metadata": {},
   "outputs": [
    {
     "name": "stdout",
     "output_type": "stream",
     "text": [
      "Unique user count =  324\n",
      "Unique item count =  2015\n"
     ]
    }
   ],
   "source": [
    "unique_user_count = data['CustomerID'].unique().size\n",
    "unique_item_count = data['StockCode'].unique().size\n",
    "print('Unique user count = ', unique_user_count)\n",
    "print('Unique item count = ', unique_item_count)"
   ]
  },
  {
   "cell_type": "code",
   "execution_count": 5,
   "metadata": {},
   "outputs": [
    {
     "data": {
      "text/html": [
       "<div>\n",
       "<style scoped>\n",
       "    .dataframe tbody tr th:only-of-type {\n",
       "        vertical-align: middle;\n",
       "    }\n",
       "\n",
       "    .dataframe tbody tr th {\n",
       "        vertical-align: top;\n",
       "    }\n",
       "\n",
       "    .dataframe thead th {\n",
       "        text-align: right;\n",
       "    }\n",
       "</style>\n",
       "<table border=\"1\" class=\"dataframe\">\n",
       "  <thead>\n",
       "    <tr style=\"text-align: right;\">\n",
       "      <th></th>\n",
       "      <th>InvoiceNo</th>\n",
       "      <th>StockCode</th>\n",
       "      <th>Description</th>\n",
       "      <th>Quantity</th>\n",
       "      <th>InvoiceDate</th>\n",
       "      <th>UnitPrice</th>\n",
       "      <th>CustomerID</th>\n",
       "      <th>Country</th>\n",
       "    </tr>\n",
       "  </thead>\n",
       "  <tbody>\n",
       "    <tr>\n",
       "      <th>0</th>\n",
       "      <td>536365</td>\n",
       "      <td>85123A</td>\n",
       "      <td>WHITE HANGING HEART T-LIGHT HOLDER</td>\n",
       "      <td>6</td>\n",
       "      <td>12/1/2010 8:26</td>\n",
       "      <td>2.55</td>\n",
       "      <td>17850.0</td>\n",
       "      <td>United Kingdom</td>\n",
       "    </tr>\n",
       "    <tr>\n",
       "      <th>1</th>\n",
       "      <td>536365</td>\n",
       "      <td>71053</td>\n",
       "      <td>WHITE METAL LANTERN</td>\n",
       "      <td>6</td>\n",
       "      <td>12/1/2010 8:26</td>\n",
       "      <td>3.39</td>\n",
       "      <td>17850.0</td>\n",
       "      <td>United Kingdom</td>\n",
       "    </tr>\n",
       "    <tr>\n",
       "      <th>2</th>\n",
       "      <td>536365</td>\n",
       "      <td>84406B</td>\n",
       "      <td>CREAM CUPID HEARTS COAT HANGER</td>\n",
       "      <td>8</td>\n",
       "      <td>12/1/2010 8:26</td>\n",
       "      <td>2.75</td>\n",
       "      <td>17850.0</td>\n",
       "      <td>United Kingdom</td>\n",
       "    </tr>\n",
       "    <tr>\n",
       "      <th>3</th>\n",
       "      <td>536365</td>\n",
       "      <td>84029G</td>\n",
       "      <td>KNITTED UNION FLAG HOT WATER BOTTLE</td>\n",
       "      <td>6</td>\n",
       "      <td>12/1/2010 8:26</td>\n",
       "      <td>3.39</td>\n",
       "      <td>17850.0</td>\n",
       "      <td>United Kingdom</td>\n",
       "    </tr>\n",
       "    <tr>\n",
       "      <th>4</th>\n",
       "      <td>536365</td>\n",
       "      <td>84029E</td>\n",
       "      <td>RED WOOLLY HOTTIE WHITE HEART.</td>\n",
       "      <td>6</td>\n",
       "      <td>12/1/2010 8:26</td>\n",
       "      <td>3.39</td>\n",
       "      <td>17850.0</td>\n",
       "      <td>United Kingdom</td>\n",
       "    </tr>\n",
       "  </tbody>\n",
       "</table>\n",
       "</div>"
      ],
      "text/plain": [
       "  InvoiceNo StockCode                          Description  Quantity  \\\n",
       "0    536365    85123A   WHITE HANGING HEART T-LIGHT HOLDER         6   \n",
       "1    536365     71053                  WHITE METAL LANTERN         6   \n",
       "2    536365    84406B       CREAM CUPID HEARTS COAT HANGER         8   \n",
       "3    536365    84029G  KNITTED UNION FLAG HOT WATER BOTTLE         6   \n",
       "4    536365    84029E       RED WOOLLY HOTTIE WHITE HEART.         6   \n",
       "\n",
       "      InvoiceDate  UnitPrice  CustomerID         Country  \n",
       "0  12/1/2010 8:26       2.55     17850.0  United Kingdom  \n",
       "1  12/1/2010 8:26       3.39     17850.0  United Kingdom  \n",
       "2  12/1/2010 8:26       2.75     17850.0  United Kingdom  \n",
       "3  12/1/2010 8:26       3.39     17850.0  United Kingdom  \n",
       "4  12/1/2010 8:26       3.39     17850.0  United Kingdom  "
      ]
     },
     "execution_count": 5,
     "metadata": {},
     "output_type": "execute_result"
    }
   ],
   "source": [
    "# remove the rows with missing values\n",
    "data = data.dropna()\n",
    "#data.describe()\n",
    "data.head()"
   ]
  },
  {
   "cell_type": "code",
   "execution_count": 6,
   "metadata": {},
   "outputs": [
    {
     "name": "stdout",
     "output_type": "stream",
     "text": [
      "Unique user count =  323\n",
      "Unique item count =  1704\n"
     ]
    }
   ],
   "source": [
    "unique_user_count = data['CustomerID'].unique().size\n",
    "unique_item_count = data['StockCode'].unique().size\n",
    "print('Unique user count = ', unique_user_count)\n",
    "print('Unique item count = ', unique_item_count)"
   ]
  },
  {
   "cell_type": "code",
   "execution_count": 7,
   "metadata": {},
   "outputs": [],
   "source": [
    "# group the data according to our requirements\n",
    "grouped_data = data[['CustomerID', 'StockCode']].groupby('CustomerID')\n",
    "# transactions = data[['CustomerID', 'StockCode']].groupby('CustomerID').groups.values()\n",
    "\n",
    "def aggregate_items(items):\n",
    "    return items.tolist()\n",
    "    \n",
    "transactions = grouped_data.agg({'StockCode': aggregate_items})\n",
    "#transactions.values.tolist()\n",
    "transactions_list_of_list = []\n",
    "for i in transactions['StockCode']:\n",
    "    transactions_list_of_list.append(i)"
   ]
  },
  {
   "cell_type": "code",
   "execution_count": 8,
   "metadata": {},
   "outputs": [
    {
     "name": "stdout",
     "output_type": "stream",
     "text": [
      "Help on function apriori in module apyori:\n",
      "\n",
      "apriori(transactions, **kwargs)\n",
      "    Executes Apriori algorithm and returns a RelationRecord generator.\n",
      "    \n",
      "    Arguments:\n",
      "        transactions -- A transaction iterable object\n",
      "                        (eg. [['A', 'B'], ['B', 'C']]).\n",
      "    \n",
      "    Keyword arguments:\n",
      "        min_support -- The minimum support of relations (float).\n",
      "        min_confidence -- The minimum confidence of relations (float).\n",
      "        min_lift -- The minimum lift of relations (float).\n",
      "        max_length -- The maximum length of the relation (integer).\n",
      "\n"
     ]
    }
   ],
   "source": [
    "help(apriori)"
   ]
  },
  {
   "cell_type": "code",
   "execution_count": 13,
   "metadata": {},
   "outputs": [
    {
     "name": "stdout",
     "output_type": "stream",
     "text": [
      "Itemset:  1\n",
      "frozenset({'22910', '22086'})\n",
      "[OrderedStatistic(items_base=frozenset({'22086'}), items_add=frozenset({'22910'}), confidence=0.564102564102564, lift=4.794871794871794),\n",
      " OrderedStatistic(items_base=frozenset({'22910'}), items_add=frozenset({'22086'}), confidence=0.5789473684210527, lift=4.794871794871795)]\n",
      "Itemset:  2\n",
      "frozenset({'22114', '22112'})\n",
      "[OrderedStatistic(items_base=frozenset({'22112'}), items_add=frozenset({'22114'}), confidence=0.5416666666666666, lift=6.998333333333332),\n",
      " OrderedStatistic(items_base=frozenset({'22114'}), items_add=frozenset({'22112'}), confidence=0.5199999999999999, lift=6.998333333333332)]\n",
      "Itemset:  3\n",
      "frozenset({'22470', '22469'})\n",
      "[OrderedStatistic(items_base=frozenset({'22469'}), items_add=frozenset({'22470'}), confidence=0.5, lift=6.211538461538462),\n",
      " OrderedStatistic(items_base=frozenset({'22470'}), items_add=frozenset({'22469'}), confidence=0.5384615384615384, lift=6.211538461538461)]\n",
      "Itemset:  4\n",
      "frozenset({'22633', '22632'})\n",
      "[OrderedStatistic(items_base=frozenset({'22632'}), items_add=frozenset({'22633'}), confidence=0.39473684210526316, lift=3.642857142857143),\n",
      " OrderedStatistic(items_base=frozenset({'22633'}), items_add=frozenset({'22632'}), confidence=0.4285714285714286, lift=3.6428571428571432)]\n",
      "Itemset:  5\n",
      "frozenset({'22865', '22632'})\n",
      "[OrderedStatistic(items_base=frozenset({'22632'}), items_add=frozenset({'22865'}), confidence=0.6842105263157895, lift=4.804347826086956),\n",
      " OrderedStatistic(items_base=frozenset({'22865'}), items_add=frozenset({'22632'}), confidence=0.5652173913043478, lift=4.804347826086956)]\n",
      "Itemset:  6\n",
      "frozenset({'22866', '22632'})\n",
      "[OrderedStatistic(items_base=frozenset({'22632'}), items_add=frozenset({'22866'}), confidence=0.6052631578947368, lift=4.546511627906976),\n",
      " OrderedStatistic(items_base=frozenset({'22866'}), items_add=frozenset({'22632'}), confidence=0.5348837209302325, lift=4.546511627906977)]\n",
      "Itemset:  7\n",
      "frozenset({'22867', '22632'})\n",
      "[OrderedStatistic(items_base=frozenset({'22632'}), items_add=frozenset({'22867'}), confidence=0.39473684210526316, lift=3.642857142857143),\n",
      " OrderedStatistic(items_base=frozenset({'22867'}), items_add=frozenset({'22632'}), confidence=0.4285714285714286, lift=3.6428571428571432)]\n",
      "Itemset:  8\n",
      "frozenset({'22633', '22865'})\n",
      "[OrderedStatistic(items_base=frozenset({'22633'}), items_add=frozenset({'22865'}), confidence=0.5142857142857142, lift=3.611180124223602),\n",
      " OrderedStatistic(items_base=frozenset({'22865'}), items_add=frozenset({'22633'}), confidence=0.3913043478260869, lift=3.611180124223602)]\n",
      "Itemset:  9\n",
      "frozenset({'22633', '22866'})\n",
      "[OrderedStatistic(items_base=frozenset({'22633'}), items_add=frozenset({'22866'}), confidence=0.6, lift=4.506976744186046),\n",
      " OrderedStatistic(items_base=frozenset({'22866'}), items_add=frozenset({'22633'}), confidence=0.4883720930232558, lift=4.506976744186046)]\n",
      "Itemset:  10\n",
      "frozenset({'22633', '22867'})\n",
      "[OrderedStatistic(items_base=frozenset({'22633'}), items_add=frozenset({'22867'}), confidence=0.4285714285714286, lift=3.955102040816327),\n",
      " OrderedStatistic(items_base=frozenset({'22867'}), items_add=frozenset({'22633'}), confidence=0.4285714285714286, lift=3.955102040816327)]\n",
      "Itemset:  11\n",
      "frozenset({'22727', '22726'})\n",
      "[OrderedStatistic(items_base=frozenset({'22726'}), items_add=frozenset({'22727'}), confidence=0.75, lift=14.25),\n",
      " OrderedStatistic(items_base=frozenset({'22727'}), items_add=frozenset({'22726'}), confidence=0.8823529411764707, lift=14.250000000000002)]\n",
      "Itemset:  12\n",
      "frozenset({'22746', '22745'})\n",
      "[OrderedStatistic(items_base=frozenset({'22745'}), items_add=frozenset({'22746'}), confidence=0.7000000000000001, lift=16.150000000000002),\n",
      " OrderedStatistic(items_base=frozenset({'22746'}), items_add=frozenset({'22745'}), confidence=1.0, lift=16.15)]\n",
      "Itemset:  13\n",
      "frozenset({'22748', '22745'})\n",
      "[OrderedStatistic(items_base=frozenset({'22745'}), items_add=frozenset({'22748'}), confidence=0.85, lift=13.7275),\n",
      " OrderedStatistic(items_base=frozenset({'22748'}), items_add=frozenset({'22745'}), confidence=0.85, lift=13.7275)]\n",
      "Itemset:  14\n",
      "frozenset({'22748', '22746'})\n",
      "[OrderedStatistic(items_base=frozenset({'22746'}), items_add=frozenset({'22748'}), confidence=0.9285714285714286, lift=14.996428571428572),\n",
      " OrderedStatistic(items_base=frozenset({'22748'}), items_add=frozenset({'22746'}), confidence=0.65, lift=14.996428571428572)]\n",
      "Itemset:  15\n",
      "frozenset({'22834', '22865'})\n",
      "[OrderedStatistic(items_base=frozenset({'22834'}), items_add=frozenset({'22865'}), confidence=0.8333333333333334, lift=5.851449275362318),\n",
      " OrderedStatistic(items_base=frozenset({'22865'}), items_add=frozenset({'22834'}), confidence=0.32608695652173914, lift=5.851449275362319)]\n",
      "Itemset:  16\n",
      "frozenset({'22865', '22866'})\n",
      "[OrderedStatistic(items_base=frozenset({'22865'}), items_add=frozenset({'22866'}), confidence=0.6739130434782609, lift=5.062184024266936),\n",
      " OrderedStatistic(items_base=frozenset({'22866'}), items_add=frozenset({'22865'}), confidence=0.7209302325581395, lift=5.062184024266935)]\n",
      "Itemset:  17\n",
      "frozenset({'22867', '22865'})\n",
      "[OrderedStatistic(items_base=frozenset({'22865'}), items_add=frozenset({'22867'}), confidence=0.45652173913043476, lift=4.213043478260869),\n",
      " OrderedStatistic(items_base=frozenset({'22867'}), items_add=frozenset({'22865'}), confidence=0.6, lift=4.213043478260869)]\n",
      "Itemset:  18\n",
      "frozenset({'22867', '22866'})\n",
      "[OrderedStatistic(items_base=frozenset({'22866'}), items_add=frozenset({'22867'}), confidence=0.4651162790697674, lift=4.29235880398671),\n",
      " OrderedStatistic(items_base=frozenset({'22867'}), items_add=frozenset({'22866'}), confidence=0.5714285714285714, lift=4.29235880398671)]\n",
      "Itemset:  19\n",
      "frozenset({'22960', '22961'})\n",
      "[OrderedStatistic(items_base=frozenset({'22960'}), items_add=frozenset({'22961'}), confidence=0.608695652173913, lift=5.782608695652174),\n",
      " OrderedStatistic(items_base=frozenset({'22961'}), items_add=frozenset({'22960'}), confidence=0.411764705882353, lift=5.782608695652174)]\n",
      "Itemset:  20\n",
      "frozenset({'22865', '22866', '22632'})\n",
      "[OrderedStatistic(items_base=frozenset({'22865', '22632'}), items_add=frozenset({'22866'}), confidence=0.7692307692307693, lift=5.778175313059034),\n",
      " OrderedStatistic(items_base=frozenset({'22866', '22632'}), items_add=frozenset({'22865'}), confidence=0.8695652173913043, lift=6.105860113421549),\n",
      " OrderedStatistic(items_base=frozenset({'22865', '22866'}), items_add=frozenset({'22632'}), confidence=0.6451612903225806, lift=5.483870967741935)]\n",
      "Itemset:  21\n",
      "frozenset({'22633', '22865', '22866'})\n",
      "[OrderedStatistic(items_base=frozenset({'22633', '22865'}), items_add=frozenset({'22866'}), confidence=0.7777777777777778, lift=5.842377260981912),\n",
      " OrderedStatistic(items_base=frozenset({'22633', '22866'}), items_add=frozenset({'22865'}), confidence=0.6666666666666666, lift=4.6811594202898545),\n",
      " OrderedStatistic(items_base=frozenset({'22865', '22866'}), items_add=frozenset({'22633'}), confidence=0.4516129032258065, lift=4.167741935483871)]\n",
      "Itemset:  22\n",
      "frozenset({'22748', '22746', '22745'})\n",
      "[OrderedStatistic(items_base=frozenset({'22746', '22745'}), items_add=frozenset({'22748'}), confidence=0.9285714285714286, lift=14.996428571428572),\n",
      " OrderedStatistic(items_base=frozenset({'22748', '22745'}), items_add=frozenset({'22746'}), confidence=0.7647058823529412, lift=17.642857142857142),\n",
      " OrderedStatistic(items_base=frozenset({'22748', '22746'}), items_add=frozenset({'22745'}), confidence=1.0, lift=16.15)]\n",
      "Itemset:  23\n",
      "frozenset({'22867', '22865', '22866'})\n",
      "[OrderedStatistic(items_base=frozenset({'22865', '22866'}), items_add=frozenset({'22867'}), confidence=0.4838709677419355, lift=4.465437788018433),\n",
      " OrderedStatistic(items_base=frozenset({'22867', '22865'}), items_add=frozenset({'22866'}), confidence=0.7142857142857143, lift=5.365448504983388),\n",
      " OrderedStatistic(items_base=frozenset({'22867', '22866'}), items_add=frozenset({'22865'}), confidence=0.75, lift=5.266304347826087)]\n"
     ]
    }
   ],
   "source": [
    "results = list(apriori(transactions_list_of_list, min_support = 0.04))\n",
    "\n",
    "import pprint\n",
    "# print rules for itemsets with specified length\n",
    "min_length = 1\n",
    "i = 1\n",
    "for relation_record in results:\n",
    "    if len(relation_record.items) > min_length:\n",
    "        print('Itemset: ', i)\n",
    "        #pprint.pprint(relation_record)\n",
    "        print(relation_record[0])\n",
    "        pprint.pprint(relation_record[2])\n",
    "        i += 1"
   ]
  },
  {
   "cell_type": "code",
   "execution_count": 10,
   "metadata": {},
   "outputs": [
    {
     "name": "stdout",
     "output_type": "stream",
     "text": [
      "{('22961',): 35, ('84029G', '84029G', '84029G'): 680, ('22632', '84029G', '84029G', '84029G'): 11560, ('84029E', '84029G', '84029G', '84029G'): 11560, ('22633', '84029G', '84029G', '84029G'): 11560, ('84029G', '84029G', '84029G', '85123A'): 11560, ('84029G', '84029G', '84029G', '84029G'): 2380, ('22632', '84029E', '84029G', '84029G', '84029G'): 11560, ('22632', '22633', '84029G', '84029G', '84029G'): 11560, ('22632', '84029G', '84029G', '84029G', '85123A'): 11560, ('22632', '84029G', '84029G', '84029G', '84029G'): 2380, ('22633', '84029E', '84029G', '84029G', '84029G'): 11560, ('84029E', '84029G', '84029G', '84029G', '85123A'): 11560, ('84029E', '84029G', '84029G', '84029G', '84029G'): 2380, ('22633', '84029G', '84029G', '84029G', '85123A'): 11560, ('22633', '84029G', '84029G', '84029G', '84029G'): 2380, ('84029G', '84029G', '84029G', '84029G', '85123A'): 2380, ('22632', '22633', '84029E', '84029G', '84029G', '84029G'): 11560, ('22632', '84029E', '84029G', '84029G', '84029G', '85123A'): 11560, ('22632', '84029E', '84029G', '84029G', '84029G', '84029G'): 2380, ('22632', '22633', '84029G', '84029G', '84029G', '85123A'): 11560, ('22632', '22633', '84029G', '84029G', '84029G', '84029G'): 2380, ('22632', '84029G', '84029G', '84029G', '84029G', '85123A'): 2380, ('22633', '84029E', '84029G', '84029G', '84029G', '85123A'): 11560, ('22633', '84029E', '84029G', '84029G', '84029G', '84029G'): 2380, ('84029E', '84029G', '84029G', '84029G', '84029G', '85123A'): 2380, ('22633', '84029G', '84029G', '84029G', '84029G', '85123A'): 2380, ('22632', '22633', '84029E', '84029G', '84029G', '84029G', '85123A'): 11560, ('22632', '22633', '84029E', '84029G', '84029G', '84029G', '84029G'): 2380, ('22632', '84029E', '84029G', '84029G', '84029G', '84029G', '85123A'): 2380, ('22632', '22633', '84029G', '84029G', '84029G', '84029G', '85123A'): 2380, ('22633', '84029E', '84029G', '84029G', '84029G', '84029G', '85123A'): 2380, ('22632', '22633', '84029E', '84029G', '84029G', '84029G', '84029G', '85123A'): 2380, ('22632', '84029G', '84029G'): 2312, ('22632', '84029E', '84029G', '84029G'): 39304, ('22632', '22633', '84029G', '84029G'): 39304, ('22632', '84029G', '84029G', '85123A'): 39304, ('22632', '22632', '84029G', '84029G'): 18496, ('22632', '22633', '84029E', '84029G', '84029G'): 39304, ('22632', '84029E', '84029G', '84029G', '85123A'): 39304, ('22632', '22632', '84029E', '84029G', '84029G'): 18496, ('22632', '22633', '84029G', '84029G', '85123A'): 39304, ('22632', '22632', '22633', '84029G', '84029G'): 18496, ('22632', '22632', '84029G', '84029G', '85123A'): 18496, ('22632', '22633', '84029E', '84029G', '84029G', '85123A'): 39304, ('22632', '22632', '22633', '84029E', '84029G', '84029G'): 18496, ('22632', '22632', '84029E', '84029G', '84029G', '85123A'): 18496, ('22632', '22632', '22633', '84029G', '84029G', '85123A'): 18496, ('22632', '22632', '22633', '84029E', '84029G', '84029G', '85123A'): 18496, ('84029G', '84029G', '85123A'): 2313, ('84029G', '84029G', '85123A', '85123A'): 18496, ('22633', '84029G', '84029G'): 2313, ('22633', '84029G', '84029G', '85123A'): 39305, ('22633', '22633', '84029G', '84029G'): 18496, ('22633', '22633', '84029G', '84029G', '85123A'): 18496, ('84029E', '84029E', '84029G', '84029G'): 18496, ('84029E', '84029E', '84029G', '84029G', '85123A'): 314432, ('22633', '84029E', '84029E', '84029G', '84029G'): 314432, ('84029E', '84029E', '84029E', '84029G', '84029G'): 92480, ('22633', '84029E', '84029E', '84029G', '84029G', '85123A'): 314432, ('84029E', '84029E', '84029E', '84029G', '84029G', '85123A'): 92480, ('22633', '84029E', '84029E', '84029E', '84029G', '84029G'): 92480, ('22633', '84029E', '84029E', '84029E', '84029G', '84029G', '85123A'): 92480, ('22633', '84029E', '84029G', '84029G'): 39305, ('22633', '22633', '84029E', '84029G', '84029G'): 314432, ('84029E', '84029G', '84029G', '85123A'): 39305, ('22633', '84029E', '84029G', '84029G', '85123A'): 668169, ('84029E', '84029G', '84029G', '85123A', '85123A'): 314432, ('22633', '84029E', '84029G', '84029G', '85123A', '85123A'): 314432, ('22632', '22632', '84029G'): 2312, ('22632', '22632', '84029G', '85123A'): 39304, ('22632', '22632', '22633', '84029G'): 39304, ('22632', '22632', '84029E', '84029G'): 39304, ('22632', '22632', '22632', '84029G'): 11560, ('22632', '22632', '22633', '84029G', '85123A'): 39304, ('22632', '22632', '84029E', '84029G', '85123A'): 39304, ('22632', '22632', '22632', '84029G', '85123A'): 11560, ('22632', '22632', '22633', '84029E', '84029G'): 39304, ('22632', '22632', '22632', '22633', '84029G'): 11560, ('22632', '22632', '22632', '84029E', '84029G'): 11560, ('22632', '22632', '22633', '84029E', '84029G', '85123A'): 39304, ('22632', '22632', '22632', '22633', '84029G', '85123A'): 11560, ('22632', '22632', '22632', '84029E', '84029G', '85123A'): 11560, ('22632', '22632', '22632', '22633', '84029E', '84029G'): 11560, ('22632', '22632', '22632', '22633', '84029E', '84029G', '85123A'): 11560, ('22632', '84029G', '85123A'): 4913, ('22632', '22633', '84029G', '85123A'): 83521, ('22632', '84029E', '84029G', '85123A'): 83521, ('22632', '84029G', '85123A', '85123A'): 39304, ('22632', '22633', '84029E', '84029G', '85123A'): 83521, ('22632', '22633', '84029G', '85123A', '85123A'): 39304, ('22632', '84029E', '84029G', '85123A', '85123A'): 39304, ('22632', '22633', '84029E', '84029G', '85123A', '85123A'): 39304, ('22632', '22633', '84029G'): 4915, ('22632', '22633', '84029E', '84029G'): 83523, ('22632', '22633', '22633', '84029G'): 39304, ('22632', '22633', '22633', '84029E', '84029G'): 39304, ('22632', '84029E', '84029G'): 4917, ('22632', '84029E', '84029E', '84029G'): 39304, ('84029G', '85123A', '85123A'): 2312, ('84029E', '84029G', '85123A', '85123A'): 39304, ('22633', '84029G', '85123A', '85123A'): 39304, ('84029G', '85123A', '85123A', '85123A'): 11560, ('22633', '84029E', '84029G', '85123A', '85123A'): 39304, ('84029E', '84029G', '85123A', '85123A', '85123A'): 11560, ('22633', '84029G', '85123A', '85123A', '85123A'): 11560, ('22633', '84029E', '84029G', '85123A', '85123A', '85123A'): 11560, ('22633', '84029G', '85123A'): 4916, ('22633', '22633', '84029G', '85123A'): 39304, ('84029E', '84029G', '85123A'): 4916, ('22633', '84029E', '84029G', '85123A'): 83524, ('84029E', '84029E', '84029G', '85123A'): 39304, ('22633', '84029E', '84029E', '84029G', '85123A'): 39304, ('22633', '84029G'): 297, ('22633', '84029E', '84029G'): 4920, ('22633', '22633', '84029G'): 2312, ('22633', '22633', '84029E', '84029G'): 2312, ('84029E', '84029G'): 299, ('84029E', '84029E', '84029G'): 2312, ('22423',): 36, ('22867',): 37, ('84029E', '84029E', '84029E'): 680, ('22633', '84029E', '84029E', '84029E'): 11560, ('22632', '84029E', '84029E', '84029E'): 11560, ('84029E', '84029E', '84029E', '85123A'): 11560, ('84029E', '84029E', '84029E', '84029E'): 2380, ('22632', '22633', '84029E', '84029E', '84029E'): 11560, ('22633', '84029E', '84029E', '84029E', '85123A'): 11560, ('22633', '84029E', '84029E', '84029E', '84029E'): 2380, ('22632', '84029E', '84029E', '84029E', '85123A'): 11560, ('22632', '84029E', '84029E', '84029E', '84029E'): 2380, ('84029E', '84029E', '84029E', '84029E', '85123A'): 2380, ('22632', '22633', '84029E', '84029E', '84029E', '85123A'): 11560, ('22632', '22633', '84029E', '84029E', '84029E', '84029E'): 2380, ('22633', '84029E', '84029E', '84029E', '84029E', '85123A'): 2380, ('22632', '84029E', '84029E', '84029E', '84029E', '85123A'): 2380, ('22632', '22633', '84029E', '84029E', '84029E', '84029E', '85123A'): 2380, ('22633', '84029E', '84029E'): 2312, ('22632', '22633', '84029E', '84029E'): 39304, ('22633', '84029E', '84029E', '85123A'): 39304, ('22633', '22633', '84029E', '84029E'): 18496, ('22632', '22633', '84029E', '84029E', '85123A'): 39304, ('22632', '22633', '22633', '84029E', '84029E'): 18496, ('22633', '22633', '84029E', '84029E', '85123A'): 18496, ('22632', '22633', '22633', '84029E', '84029E', '85123A'): 18496, ('22632', '22632', '84029E', '84029E'): 18497, ('22632', '22632', '84029E', '84029E', '85123A'): 314432, ('22632', '22632', '22632', '84029E', '84029E'): 92480, ('22632', '22632', '22632', '84029E', '84029E', '85123A'): 92480, ('22632', '84029E', '84029E', '85123A'): 39304, ('22632', '84029E', '84029E', '85123A', '85123A'): 314432, ('84029E', '84029E', '85123A'): 2314, ('84029E', '84029E', '85123A', '85123A'): 18497, ('84029E', '85123A', '85123A'): 2314, ('22632', '84029E', '85123A', '85123A'): 39304, ('22633', '84029E', '85123A', '85123A'): 39304, ('84029E', '85123A', '85123A', '85123A'): 11560, ('22632', '22633', '84029E', '85123A', '85123A'): 39304, ('22632', '84029E', '85123A', '85123A', '85123A'): 11560, ('22633', '84029E', '85123A', '85123A', '85123A'): 11560, ('22632', '22633', '84029E', '85123A', '85123A', '85123A'): 11560, ('22632', '84029E', '85123A'): 4913, ('22632', '22633', '84029E', '85123A'): 83521, ('22632', '22632', '84029E', '85123A'): 39304, ('22632', '22632', '22633', '84029E', '85123A'): 39304, ('22633', '84029E', '85123A'): 4915, ('22633', '22633', '84029E', '85123A'): 39304, ('22633', '84029E'): 297, ('22632', '22633', '84029E'): 4916, ('22633', '22633', '84029E'): 2312, ('22632', '22633', '22633', '84029E'): 2312, ('22632', '84029E'): 300, ('22632', '22632', '84029E'): 2314, ('22910',): 40, ('22086',): 44, ('22865',): 51, ('22865', '22866'): 34, ('22866',): 52, ('85123A', '85123A'): 139, ('22632', '85123A', '85123A'): 2312, ('22633', '85123A', '85123A'): 2312, ('85123A', '85123A', '85123A'): 680, ('22632', '22633', '85123A', '85123A'): 2312, ('22632', '85123A', '85123A', '85123A'): 680, ('22633', '85123A', '85123A', '85123A'): 680, ('22632', '22633', '85123A', '85123A', '85123A'): 680, ('22632', '85123A'): 293, ('22632', '22633', '85123A'): 4916, ('22632', '22632', '85123A'): 2312, ('22632', '22632', '22633', '85123A'): 2312, ('22633', '85123A'): 297, ('22633', '22633', '85123A'): 2313, ('22632', '22632', '22632', '22632', '22632', '22632', '22632', '22632', '22632', '22632', '22632', '22632', '22632', '22632', '22632'): 136, ('22632', '22632', '22632', '22632', '22632', '22632', '22632', '22632', '22632', '22632', '22632', '22632', '22632', '22632', '22632', '22633'): 2174, ('22632', '22632', '22632', '22632', '22632', '22632', '22632', '22632', '22632', '22632', '22632', '22632', '22632', '22632', '22633'): 10849, ('22632', '22632', '22632', '22632', '22632', '22632', '22632', '22632', '22632', '22632', '22632', '22632', '22632', '22632', '22633', '22633'): 81152, ('22632', '22632', '22632', '22632', '22632', '22632', '22632', '22632', '22632', '22632', '22632', '22632', '22632', '22633'): 37855, ('22632', '22632', '22632', '22632', '22632', '22632', '22632', '22632', '22632', '22632', '22632', '22632', '22632', '22633', '22633'): 282361, ('22632', '22632', '22632', '22632', '22632', '22632', '22632', '22632', '22632', '22632', '22632', '22632', '22633'): 97993, ('22632', '22632', '22632', '22632', '22632', '22632', '22632', '22632', '22632', '22632', '22632', '22632', '22633', '22633'): 728015, ('22632', '22632', '22632', '22632', '22632', '22632', '22632', '22632', '22632', '22632', '22632', '22633'): 194831, ('22632', '22632', '22632', '22632', '22632', '22632', '22632', '22632', '22632', '22632', '22632', '22633', '22633'): 1439725, ('22632', '22632', '22632', '22632', '22632', '22632', '22632', '22632', '22632', '22632', '22633'): 303797, ('22632', '22632', '22632', '22632', '22632', '22632', '22632', '22632', '22632', '22632', '22633', '22633'): 2229383, ('22632', '22632', '22632', '22632', '22632', '22632', '22632', '22632', '22632', '22633'): 375947, ('22632', '22632', '22632', '22632', '22632', '22632', '22632', '22632', '22632', '22633', '22633'): 2734381, ('22632', '22632', '22632', '22632', '22632', '22632', '22632', '22632', '22633'): 371085, ('22632', '22632', '22632', '22632', '22632', '22632', '22632', '22632', '22633', '22633'): 2668523, ('22632', '22632', '22632', '22632', '22632', '22632', '22632', '22633'): 291863, ('22632', '22632', '22632', '22632', '22632', '22632', '22632', '22633', '22633'): 2068495, ('22632', '22632', '22632', '22632', '22632', '22632', '22633'): 181571, ('22632', '22632', '22632', '22632', '22632', '22632', '22633', '22633'): 1262755, ('22632', '22632', '22632', '22632', '22632', '22633'): 87997, ('22632', '22632', '22632', '22632', '22632', '22633', '22633'): 596843, ('22632', '22632', '22632', '22632', '22633'): 32347, ('22632', '22632', '22632', '22632', '22633', '22633'): 211981, ('22632', '22632', '22632', '22633'): 8605, ('22632', '22632', '22632', '22633', '22633'): 53663, ('22632', '22632', '22633'): 2315, ('22632', '22632', '22633', '22633'): 18499, ('22632', '22633'): 309, ('22632', '22633', '22633'): 2319, ('22633', '22633', '22633', '22633', '22633', '22633', '22633', '22633', '22633', '22633', '22633', '22633', '22633', '22633', '22633'): 136, ('22632', '22633', '22633', '22633', '22633', '22633', '22633', '22633', '22633', '22633', '22633', '22633', '22633', '22633', '22633', '22633'): 2280, ('22632', '22633', '22633', '22633', '22633', '22633', '22633', '22633', '22633', '22633', '22633', '22633', '22633', '22633', '22633'): 11319, ('22632', '22632', '22633', '22633', '22633', '22633', '22633', '22633', '22633', '22633', '22633', '22633', '22633', '22633', '22633', '22633'): 88746, ('22632', '22633', '22633', '22633', '22633', '22633', '22633', '22633', '22633', '22633', '22633', '22633', '22633', '22633'): 39325, ('22632', '22632', '22633', '22633', '22633', '22633', '22633', '22633', '22633', '22633', '22633', '22633', '22633', '22633', '22633'): 306111, ('22632', '22633', '22633', '22633', '22633', '22633', '22633', '22633', '22633', '22633', '22633', '22633', '22633'): 101451, ('22632', '22632', '22633', '22633', '22633', '22633', '22633', '22633', '22633', '22633', '22633', '22633', '22633', '22633'): 783693, ('22632', '22633', '22633', '22633', '22633', '22633', '22633', '22633', '22633', '22633', '22633', '22633'): 201201, ('22632', '22632', '22633', '22633', '22633', '22633', '22633', '22633', '22633', '22633', '22633', '22633', '22633'): 1541463, ('22632', '22633', '22633', '22633', '22633', '22633', '22633', '22633', '22633', '22633', '22633'): 313235, ('22632', '22632', '22633', '22633', '22633', '22633', '22633', '22633', '22633', '22633', '22633', '22633'): 2378025, ('22632', '22633', '22633', '22633', '22633', '22633', '22633', '22633', '22633', '22633'): 387387, ('22632', '22632', '22633', '22633', '22633', '22633', '22633', '22633', '22633', '22633', '22633'): 2910843, ('22632', '22633', '22633', '22633', '22633', '22633', '22633', '22633', '22633'): 382525, ('22632', '22632', '22633', '22633', '22633', '22633', '22633', '22633', '22633', '22633'): 2840123, ('22632', '22633', '22633', '22633', '22633', '22633', '22633', '22633'): 301301, ('22632', '22632', '22633', '22633', '22633', '22633', '22633', '22633', '22633'): 2205203, ('22632', '22633', '22633', '22633', '22633', '22633', '22633'): 187941, ('22632', '22632', '22633', '22633', '22633', '22633', '22633', '22633'): 1351233, ('22632', '22633', '22633', '22633', '22633', '22633'): 91455, ('22632', '22632', '22633', '22633', '22633', '22633', '22633'): 642525, ('22632', '22633', '22633', '22633', '22633'): 33817, ('22632', '22632', '22633', '22633', '22633', '22633'): 230223, ('22632', '22633', '22633', '22633'): 9077, ('22632', '22632', '22633', '22633', '22633'): 59014}\n"
     ]
    }
   ],
   "source": [
    "# FP Growth\n",
    "import pyfpgrowth\n",
    "transaction_count = len(transactions_list_of_list)\n",
    "patterns = pyfpgrowth.find_frequent_patterns(transactions_list_of_list, transaction_count*0.1)\n",
    "print(patterns)"
   ]
  },
  {
   "cell_type": "code",
   "execution_count": 23,
   "metadata": {},
   "outputs": [
    {
     "name": "stdout",
     "output_type": "stream",
     "text": [
      "{('22632', '84029G', '84029G'): (('22633', '84029E', '85123A'), 8.0), ('84029G', '84029G', '84029G'): (('22632', '22633', '84029E', '85123A'), 3.5), ('84029E', '84029G'): ((), 7.7324414715719065), ('22633', '84029G'): (('84029E',), 7.784511784511785), ('22633', '84029G', '84029G'): (('84029E', '85123A'), 135.9412019022914), ('84029G', '84029G', '85123A'): (('22633', '84029E'), 135.9412019022914), ('22632', '84029E'): ((), 7.713333333333333), ('22632', '84029E', '84029G'): ((), 7.993491966646329), ('22632', '84029G', '84029G', '84029G'): (('22633', '84029E', '85123A'), 1.0), ('84029E', '84029G', '84029G', '84029G'): (('22632', '22633', '85123A'), 1.0), ('22632', '22633'): ((), 190.98381877022655), ('22632', '22633', '84029G'): (('84029E',), 7.99674465920651), ('22633', '84029G', '84029G', '84029G'): (('22632', '84029E', '85123A'), 1.0), ('22632', '85123A'): (('22633',), 7.890784982935154), ('22632', '84029G', '85123A'): (('22633', '84029E'), 8.0), ('84029G', '84029G', '84029G', '85123A'): (('22632', '22633', '84029E'), 1.0), ('84029G', '84029G', '84029G', '84029G'): (('22632', '22633', '84029E', '85123A'), 1.0), ('22633', '84029E'): (('22632',), 7.784511784511785), ('22633', '84029E', '84029G'): (('85123A',), 7.9886178861788615), ('84029E', '84029G', '85123A'): (('22633',), 7.995117982099267), ('22633', '85123A'): ((), 7.787878787878788), ('22633', '84029G', '85123A'): (('84029E',), 7.995117982099267), ('22632', '22633', '84029E'): (('85123A',), 7.995117982099267), ('22632', '22633', '84029G', '84029G', '84029G'): (('84029E', '85123A'), 1.0), ('22632', '84029E', '84029G', '84029G', '84029G'): (('22633', '85123A'), 1.0), ('22633', '84029E', '84029G', '84029G', '84029G'): (('22632', '85123A'), 1.0), ('22632', '84029E', '85123A'): (('22633',), 8.0), ('22632', '84029G', '84029G', '84029G', '85123A'): (('22633', '84029E'), 1.0), ('84029E', '84029G', '84029G', '84029G', '85123A'): (('22632', '22633'), 1.0), ('22632', '84029G', '84029G', '84029G', '84029G'): (('22633', '84029E', '85123A'), 1.0), ('84029E', '84029G', '84029G', '84029G', '84029G'): (('22632', '22633', '85123A'), 1.0), ('22632', '22633', '85123A'): (('84029E',), 7.995117982099267), ('22633', '84029G', '84029G', '84029G', '85123A'): (('22632', '84029E'), 1.0), ('22633', '84029G', '84029G', '84029G', '84029G'): (('22632', '84029E', '85123A'), 1.0), ('84029G', '84029G', '84029G', '84029G', '85123A'): (('22632', '22633', '84029E'), 1.0), ('22633', '84029E', '85123A'): ((), 7.99674465920651), ('22632', '22633', '84029E', '84029G', '84029G', '84029G'): (('85123A',), 1.0), ('22632', '22633', '84029G', '84029G', '84029G', '85123A'): (('84029E',), 1.0), ('22632', '84029E', '84029G', '84029G', '84029G', '85123A'): (('22633',), 1.0), ('22633', '84029E', '84029G', '84029G', '84029G', '85123A'): (('22632',), 1.0), ('22632', '22633', '84029G', '84029G', '84029G', '84029G'): (('84029E', '85123A'), 1.0), ('22632', '84029E', '84029G', '84029G', '84029G', '84029G'): (('22633', '85123A'), 1.0), ('22633', '84029E', '84029G', '84029G', '84029G', '84029G'): (('22632', '85123A'), 1.0), ('22632', '84029G', '84029G', '84029G', '84029G', '85123A'): (('22633', '84029E'), 1.0), ('84029E', '84029G', '84029G', '84029G', '84029G', '85123A'): (('22632', '22633'), 1.0), ('22633', '84029G', '84029G', '84029G', '84029G', '85123A'): (('22632', '84029E'), 1.0), ('22632', '22633', '84029E', '84029G', '84029G', '84029G', '84029G'): (('85123A',), 1.0), ('22632', '22633', '84029G', '84029G', '84029G', '84029G', '85123A'): (('84029E',), 1.0), ('22632', '84029E', '84029G', '84029G', '84029G', '84029G', '85123A'): (('22633',), 1.0), ('22633', '84029E', '84029G', '84029G', '84029G', '84029G', '85123A'): (('22632',), 1.0), ('22632', '22632', '84029G'): (('22633', '84029E', '85123A'), 5.0), ('22632', '22633', '84029G', '84029G'): (('84029E', '85123A'), 1.0), ('22632', '84029E', '84029G', '84029G'): (('22633', '85123A'), 1.0), ('22633', '84029E', '84029G', '84029G'): (('85123A',), 7.999796463554255), ('22632', '84029G', '84029G', '85123A'): (('22633', '84029E'), 1.0), ('84029E', '84029G', '84029G', '85123A'): (('22633',), 7.999796463554255), ('22632', '22632', '84029E'): (('22633', '85123A'), 16.985306828003456), ('22632', '22632', '84029G', '84029G'): (('22633', '84029E', '85123A'), 1.0), ('22633', '84029G', '84029G', '85123A'): (('84029E',), 7.999796463554255), ('22632', '22632', '22633'): ((), 25.492008639308857), ('22632', '22632', '85123A'): (('22633',), 1.0), ('22632', '22633', '84029E', '84029G', '84029G'): (('85123A',), 1.0), ('22632', '22633', '84029G', '84029G', '85123A'): (('84029E',), 1.0), ('22632', '84029E', '84029G', '84029G', '85123A'): (('22633',), 1.0), ('22632', '22632', '22633', '84029G', '84029G'): (('84029E', '85123A'), 1.0), ('22632', '22632', '84029E', '84029G', '84029G'): (('22633', '85123A'), 1.0), ('22632', '22632', '84029G', '84029G', '85123A'): (('22633', '84029E'), 1.0), ('22632', '22632', '22633', '85123A'): (('84029E',), 17.0), ('22632', '22632', '22633', '84029E', '84029G', '84029G'): (('85123A',), 1.0), ('22632', '22632', '22633', '84029G', '84029G', '85123A'): (('84029E',), 1.0), ('22632', '22632', '84029E', '84029G', '84029G', '85123A'): (('22633',), 1.0), ('85123A', '85123A'): (('22632', '22633'), 4.892086330935252), ('84029G', '85123A', '85123A'): (('22633', '84029E'), 5.0), ('22633', '22633', '84029G'): (('84029E',), 1.0), ('22633', '22633', '85123A'): (('84029E',), 16.992650237786425), ('22633', '22633', '84029G', '84029G'): (('84029E',), 17.0), ('84029E', '84029E', '84029G'): (('22633', '85123A'), 17.0), ('84029E', '84029E', '85123A'): ((), 7.993517718236819), ('84029E', '84029E', '84029G', '84029G'): (('22633', '85123A'), 5.0), ('84029E', '84029E', '84029G', '85123A'): (('22633',), 1.0), ('22633', '84029E', '84029E'): (('22632', '85123A'), 8.0), ('84029E', '84029E', '84029E'): (('22632', '22633', '85123A'), 3.5), ('22633', '84029E', '84029E', '85123A'): (('22632',), 1.0), ('22633', '84029E', '84029G', '85123A'): (('22632',), 0.9999640821799722), ('22633', '84029E', '84029E', '84029G', '84029G'): (('85123A',), 1.0), ('22633', '84029E', '84029E', '84029G', '85123A'): ((), 2.3529411764705883), ('84029E', '84029E', '84029G', '84029G', '85123A'): (('22633',), 1.0), ('84029E', '84029E', '84029E', '85123A'): (('22632', '22633'), 1.0), ('84029E', '84029E', '84029E', '84029G', '84029G'): (('22633', '85123A'), 1.0), ('22633', '84029E', '84029E', '84029E'): (('22632', '85123A'), 1.0), ('22633', '84029E', '84029E', '84029E', '85123A'): (('22632',), 1.0), ('22633', '84029E', '84029E', '84029E', '84029G', '84029G'): (('85123A',), 1.0), ('84029E', '84029E', '84029E', '84029G', '84029G', '85123A'): (('22633',), 1.0), ('22633', '22633', '84029E'): (('22632',), 1.0), ('22633', '22633', '84029E', '84029G'): (('22632',), 17.0), ('84029E', '85123A', '85123A'): (('22632', '22633'), 4.995678478824546), ('84029E', '84029G', '85123A', '85123A'): (('22633',), 1.0), ('84029G', '84029G', '85123A', '85123A'): (('22633', '84029E'), 17.0), ('22633', '85123A', '85123A'): (('22632',), 1.0), ('22633', '84029E', '85123A', '85123A'): (('22632',), 1.0), ('22633', '84029G', '85123A', '85123A'): (('84029E',), 1.0), ('22633', '84029E', '84029G', '85123A', '85123A'): (('22632',), 1.0), ('84029E', '84029G', '84029G', '85123A', '85123A'): (('22633',), 1.0), ('22632', '22632', '22633', '84029G'): (('84029E', '85123A'), 1.0), ('22632', '22632', '84029G', '85123A'): (('22633', '84029E'), 1.0), ('22632', '22632', '84029E', '84029G'): (('22633', '85123A'), 1.0), ('22632', '22632', '84029E', '85123A'): (('22633',), 1.0), ('22632', '22632', '22632', '84029G'): (('22633', '84029E', '85123A'), 1.0), ('22632', '22632', '22632', '22633'): ((), 6.236257989540965), ('22632', '22632', '22633', '84029E', '84029G'): (('85123A',), 1.0), ('22632', '22632', '22633', '84029E', '85123A'): (('84029G',), 1.0), ('22632', '22632', '22633', '84029G', '85123A'): (('84029E',), 1.0), ('22632', '22632', '84029E', '84029G', '85123A'): (('22633',), 1.0), ('22632', '22632', '22632', '22633', '84029G'): (('84029E', '85123A'), 1.0), ('22632', '22632', '22632', '84029G', '85123A'): (('22633', '84029E'), 1.0), ('22632', '22632', '22632', '84029E', '84029G'): (('22633', '85123A'), 1.0), ('22632', '22632', '22632', '22633', '84029E', '84029G'): (('85123A',), 1.0), ('22632', '22632', '22632', '22633', '84029G', '85123A'): (('84029E',), 1.0), ('22632', '22632', '22632', '84029E', '84029G', '85123A'): (('22633',), 1.0), ('22632', '85123A', '85123A'): (('22633',), 1.0), ('22632', '22633', '84029E', '84029G'): (('85123A',), 0.9999760544999581), ('22632', '22633', '84029E', '85123A'): (('84029G',), 1.0), ('22632', '22633', '84029G', '85123A'): (('84029E',), 1.0), ('22632', '84029E', '84029G', '85123A'): (('22633',), 1.0), ('22632', '22633', '85123A', '85123A'): (('84029E',), 5.0), ('22632', '84029G', '85123A', '85123A'): (('22633', '84029E'), 1.0), ('22632', '84029E', '85123A', '85123A'): (('22633',), 1.0), ('22632', '22633', '84029E', '85123A', '85123A'): (('84029G',), 1.0), ('22632', '22633', '84029G', '85123A', '85123A'): (('84029E',), 1.0), ('22632', '84029E', '84029G', '85123A', '85123A'): (('22633',), 1.0), ('22632', '22633', '22633'): ((), 25.448037947391118), ('22632', '22633', '22633', '84029E'): (('85123A',), 8.0), ('22632', '22633', '22633', '84029G'): (('84029E',), 1.0), ('85123A', '85123A', '85123A'): (('22632', '22633'), 1.0), ('84029E', '85123A', '85123A', '85123A'): (('22632', '22633'), 1.0), ('84029G', '85123A', '85123A', '85123A'): (('22633', '84029E'), 1.0), ('22633', '85123A', '85123A', '85123A'): (('22632',), 1.0), ('22633', '84029E', '85123A', '85123A', '85123A'): (('22632',), 1.0), ('22633', '84029G', '85123A', '85123A', '85123A'): (('84029E',), 1.0), ('84029E', '84029G', '85123A', '85123A', '85123A'): (('22633',), 1.0), ('22632', '84029E', '84029E', '84029E'): (('22633', '85123A'), 1.0), ('84029E', '84029E', '84029E', '84029E'): (('22632', '22633', '85123A'), 1.0), ('22632', '22633', '84029E', '84029E', '84029E'): (('85123A',), 1.0), ('22632', '84029E', '84029E', '84029E', '85123A'): (('22633',), 1.0), ('22632', '84029E', '84029E', '84029E', '84029E'): (('22633', '85123A'), 1.0), ('22633', '84029E', '84029E', '84029E', '84029E'): (('22632', '85123A'), 1.0), ('84029E', '84029E', '84029E', '84029E', '85123A'): (('22632', '22633'), 1.0), ('22632', '22633', '84029E', '84029E', '84029E', '84029E'): (('85123A',), 1.0), ('22632', '84029E', '84029E', '84029E', '84029E', '85123A'): (('22633',), 1.0), ('22633', '84029E', '84029E', '84029E', '84029E', '85123A'): (('22632',), 1.0), ('22632', '22633', '84029E', '84029E'): (('85123A',), 1.0), ('22632', '84029E', '84029E', '85123A'): ((), 8.0), ('22633', '22633', '84029E', '84029E'): (('22632', '85123A'), 1.0), ('22632', '22633', '22633', '84029E', '84029E'): (('85123A',), 1.0), ('22633', '22633', '84029E', '84029E', '85123A'): (('22632',), 1.0), ('22632', '22632', '84029E', '84029E'): (('85123A',), 4.99972968589501), ('22632', '22632', '22632', '84029E', '84029E'): (('85123A',), 1.0), ('84029E', '84029E', '85123A', '85123A'): (('22632',), 16.999080932043032), ('22632', '85123A', '85123A', '85123A'): (('22633',), 1.0), ('22632', '22633', '85123A', '85123A', '85123A'): (('84029E',), 17.0), ('22632', '84029E', '85123A', '85123A', '85123A'): (('22633',), 1.0), ('22865',): (('22866',), 0.6666666666666666), ('22866',): (('22865',), 0.6538461538461539), ('22632', '22632', '22632', '22632', '22632', '22632', '22632', '22632', '22632', '22632', '22632', '22632', '22632', '22632', '22632'): (('22633',), 15.985294117647058), ('22632', '22632', '22633', '22633'): ((), 3.1901183847775556), ('22632', '22632', '22632', '22632', '22633'): ((), 6.553343432157542), ('22632', '22632', '22632', '22633', '22633'): ((), 3.950226412984738), ('22632', '22632', '22632', '22632', '22632', '22633'): ((), 6.782538041069582), ('22632', '22632', '22632', '22632', '22632', '22632', '22632', '22632', '22632', '22632', '22632', '22632', '22633'): ((), 7.429255150878124), ('22632', '22632', '22632', '22632', '22632', '22632', '22632', '22632', '22632', '22632', '22632', '22632', '22632', '22633'): ((), 7.459014661207238), ('22632', '22632', '22632', '22632', '22632', '22632', '22632', '22632', '22632', '22632', '22632', '22632', '22632', '22632', '22633'): ((), 7.480136418103051), ('22632', '22632', '22632', '22632', '22633', '22633'): ((), 2.81554950679542), ('22632', '22632', '22632', '22632', '22632', '22632', '22633'): ((), 6.954607288608864), ('22632', '22632', '22632', '22632', '22632', '22632', '22632', '22633'): ((), 7.087212150906418), ('22632', '22632', '22632', '22632', '22632', '22632', '22632', '22632', '22633'): ((), 7.191136801541425), ('22632', '22632', '22632', '22632', '22632', '22632', '22632', '22632', '22632', '22633'): ((), 7.273315121546388), ('22632', '22632', '22632', '22632', '22632', '22632', '22632', '22632', '22632', '22632', '22633'): ((), 7.338397021695409), ('22632', '22632', '22632', '22632', '22632', '22632', '22632', '22632', '22632', '22632', '22632', '22633'): ((), 7.389609456400676), ('22632', '22632', '22632', '22632', '22632', '22633', '22633'): ((), 2.1157239005902726), ('22632', '22632', '22632', '22632', '22632', '22632', '22633', '22633'): ((), 1.6380810212590724), ('22632', '22632', '22632', '22632', '22632', '22632', '22632', '22632', '22632', '22632', '22632', '22633', '22633'): ((), 0.5056625397211273), ('22632', '22632', '22632', '22632', '22632', '22632', '22632', '22633', '22633'): ((), 1.2900795022468026), ('22632', '22632', '22632', '22632', '22632', '22632', '22632', '22632', '22633', '22633'): ((), 1.0246795699343794), ('22632', '22632', '22632', '22632', '22632', '22632', '22632', '22632', '22632', '22633', '22633'): ((), 0.8153154223935875), ('22632', '22632', '22632', '22632', '22632', '22632', '22632', '22632', '22632', '22632', '22633', '22633'): ((), 0.6457952716065387), ('22633', '22633', '22633', '22633', '22633', '22633', '22633', '22633', '22633', '22633', '22633', '22633', '22633', '22633', '22633'): (('22632',), 16.764705882352942), ('22632', '22633', '22633', '22633'): ((), 6.501487275531563), ('22632', '22632', '22633', '22633', '22633'): ((), 3.901159047005795), ('22632', '22633', '22633', '22633', '22633'): ((), 6.807907265576485), ('22632', '22633', '22633', '22633', '22633', '22633'): ((), 7.025586353944563), ('22632', '22633', '22633', '22633', '22633', '22633', '22633', '22633', '22633', '22633', '22633', '22633', '22633'): ((), 7.724842534819765), ('22632', '22633', '22633', '22633', '22633', '22633', '22633', '22633', '22633', '22633', '22633', '22633', '22633', '22633'): ((), 7.784132231404959), ('22632', '22633', '22633', '22633', '22633', '22633', '22633', '22633', '22633', '22633', '22633', '22633', '22633', '22633', '22633'): ((), 7.840445269016698), ('22632', '22632', '22633', '22633', '22633', '22633'): ((), 2.790881015363365), ('22632', '22633', '22633', '22633', '22633', '22633', '22633'): ((), 7.189665905789583), ('22632', '22633', '22633', '22633', '22633', '22633', '22633', '22633'): ((), 7.318936877076412), ('22632', '22633', '22633', '22633', '22633', '22633', '22633', '22633', '22633'): ((), 7.4246728971962614), ('22632', '22633', '22633', '22633', '22633', '22633', '22633', '22633', '22633', '22633'): ((), 7.514044095439444), ('22632', '22633', '22633', '22633', '22633', '22633', '22633', '22633', '22633', '22633', '22633'): ((), 7.591824029881718), ('22632', '22633', '22633', '22633', '22633', '22633', '22633', '22633', '22633', '22633', '22633', '22633'): ((), 7.661308840413318), ('22632', '22632', '22633', '22633', '22633', '22633', '22633'): ((), 2.1030045523520484), ('22632', '22632', '22633', '22633', '22633', '22633', '22633', '22633'): ((), 1.6319931499600735), ('22632', '22632', '22633', '22633', '22633', '22633', '22633', '22633', '22633', '22633', '22633', '22633', '22633'): ((), 0.5084085702997737), ('22632', '22632', '22633', '22633', '22633', '22633', '22633', '22633', '22633'): ((), 1.2879190713961481), ('22632', '22632', '22633', '22633', '22633', '22633', '22633', '22633', '22633', '22633'): ((), 1.024900330020918), ('22632', '22632', '22633', '22633', '22633', '22633', '22633', '22633', '22633', '22633', '22633'): ((), 0.8169540576389727), ('22632', '22632', '22633', '22633', '22633', '22633', '22633', '22633', '22633', '22633', '22633', '22633'): ((), 0.6482114359605134)}\n"
     ]
    }
   ],
   "source": [
    "rules = pyfpgrowth.generate_association_rules(patterns, 0.5)\n",
    "print(rules)\n",
    "#print(rules.keys())"
   ]
  }
 ],
 "metadata": {
  "kernelspec": {
   "display_name": "Python 3",
   "language": "python",
   "name": "python3"
  },
  "language_info": {
   "codemirror_mode": {
    "name": "ipython",
    "version": 3
   },
   "file_extension": ".py",
   "mimetype": "text/x-python",
   "name": "python",
   "nbconvert_exporter": "python",
   "pygments_lexer": "ipython3",
   "version": "3.6.7"
  }
 },
 "nbformat": 4,
 "nbformat_minor": 2
}
