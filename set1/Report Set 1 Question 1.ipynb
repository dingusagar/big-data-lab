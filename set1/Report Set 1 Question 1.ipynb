{
 "cells": [
  {
   "cell_type": "markdown",
   "metadata": {},
   "source": [
    "# Apriori "
   ]
  },
  {
   "cell_type": "markdown",
   "metadata": {},
   "source": [
    "### Setup and Preprocessing"
   ]
  },
  {
   "cell_type": "code",
   "execution_count": 1,
   "metadata": {},
   "outputs": [],
   "source": [
    "import numpy as np  \n",
    "import matplotlib.pyplot as plt  \n",
    "import pandas as pd  \n",
    "from apyori import apriori  \n",
    "from tqdm import tqdm"
   ]
  },
  {
   "cell_type": "code",
   "execution_count": 2,
   "metadata": {},
   "outputs": [],
   "source": [
    "store_data = pd.read_csv('store_data.csv')  "
   ]
  },
  {
   "cell_type": "code",
   "execution_count": 3,
   "metadata": {},
   "outputs": [
    {
     "data": {
      "text/html": [
       "<div>\n",
       "<style scoped>\n",
       "    .dataframe tbody tr th:only-of-type {\n",
       "        vertical-align: middle;\n",
       "    }\n",
       "\n",
       "    .dataframe tbody tr th {\n",
       "        vertical-align: top;\n",
       "    }\n",
       "\n",
       "    .dataframe thead th {\n",
       "        text-align: right;\n",
       "    }\n",
       "</style>\n",
       "<table border=\"1\" class=\"dataframe\">\n",
       "  <thead>\n",
       "    <tr style=\"text-align: right;\">\n",
       "      <th></th>\n",
       "      <th>shrimp</th>\n",
       "      <th>almonds</th>\n",
       "      <th>avocado</th>\n",
       "      <th>vegetables mix</th>\n",
       "      <th>green grapes</th>\n",
       "      <th>whole weat flour</th>\n",
       "      <th>yams</th>\n",
       "      <th>cottage cheese</th>\n",
       "      <th>energy drink</th>\n",
       "      <th>tomato juice</th>\n",
       "      <th>low fat yogurt</th>\n",
       "      <th>green tea</th>\n",
       "      <th>honey</th>\n",
       "      <th>salad</th>\n",
       "      <th>mineral water</th>\n",
       "      <th>salmon</th>\n",
       "      <th>antioxydant juice</th>\n",
       "      <th>frozen smoothie</th>\n",
       "      <th>spinach</th>\n",
       "      <th>olive oil</th>\n",
       "    </tr>\n",
       "  </thead>\n",
       "  <tbody>\n",
       "    <tr>\n",
       "      <th>0</th>\n",
       "      <td>burgers</td>\n",
       "      <td>meatballs</td>\n",
       "      <td>eggs</td>\n",
       "      <td>NaN</td>\n",
       "      <td>NaN</td>\n",
       "      <td>NaN</td>\n",
       "      <td>NaN</td>\n",
       "      <td>NaN</td>\n",
       "      <td>NaN</td>\n",
       "      <td>NaN</td>\n",
       "      <td>NaN</td>\n",
       "      <td>NaN</td>\n",
       "      <td>NaN</td>\n",
       "      <td>NaN</td>\n",
       "      <td>NaN</td>\n",
       "      <td>NaN</td>\n",
       "      <td>NaN</td>\n",
       "      <td>NaN</td>\n",
       "      <td>NaN</td>\n",
       "      <td>NaN</td>\n",
       "    </tr>\n",
       "    <tr>\n",
       "      <th>1</th>\n",
       "      <td>chutney</td>\n",
       "      <td>NaN</td>\n",
       "      <td>NaN</td>\n",
       "      <td>NaN</td>\n",
       "      <td>NaN</td>\n",
       "      <td>NaN</td>\n",
       "      <td>NaN</td>\n",
       "      <td>NaN</td>\n",
       "      <td>NaN</td>\n",
       "      <td>NaN</td>\n",
       "      <td>NaN</td>\n",
       "      <td>NaN</td>\n",
       "      <td>NaN</td>\n",
       "      <td>NaN</td>\n",
       "      <td>NaN</td>\n",
       "      <td>NaN</td>\n",
       "      <td>NaN</td>\n",
       "      <td>NaN</td>\n",
       "      <td>NaN</td>\n",
       "      <td>NaN</td>\n",
       "    </tr>\n",
       "    <tr>\n",
       "      <th>2</th>\n",
       "      <td>turkey</td>\n",
       "      <td>avocado</td>\n",
       "      <td>NaN</td>\n",
       "      <td>NaN</td>\n",
       "      <td>NaN</td>\n",
       "      <td>NaN</td>\n",
       "      <td>NaN</td>\n",
       "      <td>NaN</td>\n",
       "      <td>NaN</td>\n",
       "      <td>NaN</td>\n",
       "      <td>NaN</td>\n",
       "      <td>NaN</td>\n",
       "      <td>NaN</td>\n",
       "      <td>NaN</td>\n",
       "      <td>NaN</td>\n",
       "      <td>NaN</td>\n",
       "      <td>NaN</td>\n",
       "      <td>NaN</td>\n",
       "      <td>NaN</td>\n",
       "      <td>NaN</td>\n",
       "    </tr>\n",
       "    <tr>\n",
       "      <th>3</th>\n",
       "      <td>mineral water</td>\n",
       "      <td>milk</td>\n",
       "      <td>energy bar</td>\n",
       "      <td>whole wheat rice</td>\n",
       "      <td>green tea</td>\n",
       "      <td>NaN</td>\n",
       "      <td>NaN</td>\n",
       "      <td>NaN</td>\n",
       "      <td>NaN</td>\n",
       "      <td>NaN</td>\n",
       "      <td>NaN</td>\n",
       "      <td>NaN</td>\n",
       "      <td>NaN</td>\n",
       "      <td>NaN</td>\n",
       "      <td>NaN</td>\n",
       "      <td>NaN</td>\n",
       "      <td>NaN</td>\n",
       "      <td>NaN</td>\n",
       "      <td>NaN</td>\n",
       "      <td>NaN</td>\n",
       "    </tr>\n",
       "    <tr>\n",
       "      <th>4</th>\n",
       "      <td>low fat yogurt</td>\n",
       "      <td>NaN</td>\n",
       "      <td>NaN</td>\n",
       "      <td>NaN</td>\n",
       "      <td>NaN</td>\n",
       "      <td>NaN</td>\n",
       "      <td>NaN</td>\n",
       "      <td>NaN</td>\n",
       "      <td>NaN</td>\n",
       "      <td>NaN</td>\n",
       "      <td>NaN</td>\n",
       "      <td>NaN</td>\n",
       "      <td>NaN</td>\n",
       "      <td>NaN</td>\n",
       "      <td>NaN</td>\n",
       "      <td>NaN</td>\n",
       "      <td>NaN</td>\n",
       "      <td>NaN</td>\n",
       "      <td>NaN</td>\n",
       "      <td>NaN</td>\n",
       "    </tr>\n",
       "  </tbody>\n",
       "</table>\n",
       "</div>"
      ],
      "text/plain": [
       "           shrimp    almonds     avocado    vegetables mix green grapes  \\\n",
       "0         burgers  meatballs        eggs               NaN          NaN   \n",
       "1         chutney        NaN         NaN               NaN          NaN   \n",
       "2          turkey    avocado         NaN               NaN          NaN   \n",
       "3   mineral water       milk  energy bar  whole wheat rice    green tea   \n",
       "4  low fat yogurt        NaN         NaN               NaN          NaN   \n",
       "\n",
       "  whole weat flour yams cottage cheese energy drink tomato juice  \\\n",
       "0              NaN  NaN            NaN          NaN          NaN   \n",
       "1              NaN  NaN            NaN          NaN          NaN   \n",
       "2              NaN  NaN            NaN          NaN          NaN   \n",
       "3              NaN  NaN            NaN          NaN          NaN   \n",
       "4              NaN  NaN            NaN          NaN          NaN   \n",
       "\n",
       "  low fat yogurt green tea honey salad mineral water salmon antioxydant juice  \\\n",
       "0            NaN       NaN   NaN   NaN           NaN    NaN               NaN   \n",
       "1            NaN       NaN   NaN   NaN           NaN    NaN               NaN   \n",
       "2            NaN       NaN   NaN   NaN           NaN    NaN               NaN   \n",
       "3            NaN       NaN   NaN   NaN           NaN    NaN               NaN   \n",
       "4            NaN       NaN   NaN   NaN           NaN    NaN               NaN   \n",
       "\n",
       "  frozen smoothie spinach  olive oil  \n",
       "0             NaN     NaN        NaN  \n",
       "1             NaN     NaN        NaN  \n",
       "2             NaN     NaN        NaN  \n",
       "3             NaN     NaN        NaN  \n",
       "4             NaN     NaN        NaN  "
      ]
     },
     "execution_count": 3,
     "metadata": {},
     "output_type": "execute_result"
    }
   ],
   "source": [
    "store_data.head()  \n"
   ]
  },
  {
   "cell_type": "code",
   "execution_count": 4,
   "metadata": {},
   "outputs": [
    {
     "name": "stderr",
     "output_type": "stream",
     "text": [
      "100%|██████████| 7500/7500 [04:07<00:00, 25.61it/s]\n"
     ]
    }
   ],
   "source": [
    "records = []  \n",
    "for i in tqdm(range(7500)):  \n",
    "    records.append([str(store_data.values[i,j]) for j in range(0, 20)])"
   ]
  },
  {
   "cell_type": "markdown",
   "metadata": {},
   "source": [
    "### Apriori Algorithm\n",
    "Apriori is an algorithm for frequent item set mining and association rule learning over transactional databases. It proceeds by identifying the frequent individual items in the database and extending them to larger and larger item sets as long as those item sets appear sufficiently often in the database\n"
   ]
  },
  {
   "cell_type": "code",
   "execution_count": 44,
   "metadata": {},
   "outputs": [
    {
     "name": "stderr",
     "output_type": "stream",
     "text": [
      "\n",
      "  6%|▌         | 430/7500 [00:27<02:35, 45.42it/s]\u001b[A\n",
      "\n",
      "  6%|▌         | 425/7500 [00:24<02:36, 45.07it/s]\u001b[A\u001b[A"
     ]
    }
   ],
   "source": [
    "association_rules = apriori(records, min_support=0.0045, min_confidence=0.2, min_lift=3, min_length=2)  \n",
    "association_results = list(association_rules)  "
   ]
  },
  {
   "cell_type": "code",
   "execution_count": 27,
   "metadata": {},
   "outputs": [
    {
     "name": "stdout",
     "output_type": "stream",
     "text": [
      "48\n"
     ]
    }
   ],
   "source": [
    "print(len(association_results))  "
   ]
  },
  {
   "cell_type": "markdown",
   "metadata": {},
   "source": [
    "### Output of the algorithm"
   ]
  },
  {
   "cell_type": "code",
   "execution_count": 29,
   "metadata": {},
   "outputs": [
    {
     "name": "stdout",
     "output_type": "stream",
     "text": [
      "RelationRecord(items=frozenset({'chicken', 'light cream'}), support=0.004533333333333334, ordered_statistics=[OrderedStatistic(items_base=frozenset({'light cream'}), items_add=frozenset({'chicken'}), confidence=0.2905982905982906, lift=4.843304843304844)])\n"
     ]
    }
   ],
   "source": [
    "print(association_results[0])  "
   ]
  },
  {
   "cell_type": "code",
   "execution_count": 37,
   "metadata": {},
   "outputs": [
    {
     "name": "stdout",
     "output_type": "stream",
     "text": [
      "Rule: chicken -> light cream\n",
      "Support:  0.004533333333333334\n",
      "Confidence:  0.2905982905982906\n",
      "Lift:  4.843304843304844\n",
      "Leverage:  0.0035973333333333335\n",
      "Conviction :  1.3250602409638554\n",
      "=====================================\n",
      "Rule: escalope -> mushroom cream sauce\n",
      "Support:  0.005733333333333333\n",
      "Confidence:  0.30069930069930073\n",
      "Lift:  3.7903273197390845\n",
      "Leverage:  0.004220711111111111\n",
      "Conviction :  1.3165533333333332\n",
      "=====================================\n",
      "Rule: pasta -> escalope\n",
      "Support:  0.005866666666666667\n",
      "Confidence:  0.37288135593220345\n",
      "Lift:  4.700185158809287\n",
      "Leverage:  0.004618488888888889\n",
      "Conviction :  1.4680900900900904\n",
      "=====================================\n",
      "Rule: herb & pepper -> ground beef\n",
      "Support:  0.016\n",
      "Confidence:  0.3234501347708895\n",
      "Lift:  3.2915549671393096\n",
      "Leverage:  0.011139075555555555\n",
      "Conviction :  1.332840903054449\n",
      "=====================================\n",
      "Rule: tomato sauce -> ground beef\n",
      "Support:  0.005333333333333333\n",
      "Confidence:  0.37735849056603776\n",
      "Lift:  3.840147461662528\n",
      "Leverage:  0.003944497777777778\n",
      "Conviction :  1.4482383838383839\n",
      "=====================================\n",
      "Rule: whole wheat pasta -> olive oil\n",
      "Support:  0.008\n",
      "Confidence:  0.2714932126696833\n",
      "Lift:  4.130221288078346\n",
      "Leverage:  0.006063057777777778\n",
      "Conviction :  1.282440579710145\n",
      "=====================================\n",
      "Rule: pasta -> shrimp\n",
      "Support:  0.005066666666666666\n",
      "Confidence:  0.3220338983050848\n",
      "Lift:  4.514493901473151\n",
      "Leverage:  0.003944355555555556\n",
      "Conviction :  1.3697833333333334\n",
      "=====================================\n",
      "Rule: nan -> chicken\n",
      "Support:  0.004533333333333334\n",
      "Confidence:  0.2905982905982906\n",
      "Lift:  4.843304843304844\n",
      "Leverage:  0.0035973333333333335\n",
      "Conviction :  1.3250602409638554\n",
      "=====================================\n",
      "Rule: shrimp -> frozen vegetables\n",
      "Support:  0.005333333333333333\n",
      "Confidence:  0.23255813953488372\n",
      "Lift:  3.260160834601174\n",
      "Leverage:  0.003697422222222222\n",
      "Conviction :  1.210080808080808\n",
      "=====================================\n",
      "Rule: cooking oil -> spaghetti\n",
      "Support:  0.0048\n",
      "Confidence:  0.5714285714285714\n",
      "Lift:  3.281557646029315\n",
      "Leverage:  0.0033372799999999998\n",
      "Conviction :  1.927022222222222\n",
      "=====================================\n",
      "Rule: nan -> escalope\n",
      "Support:  0.005733333333333333\n",
      "Confidence:  0.30069930069930073\n",
      "Lift:  3.7903273197390845\n",
      "Leverage:  0.004220711111111111\n",
      "Conviction :  1.3165533333333332\n",
      "=====================================\n",
      "Rule: nan -> pasta\n",
      "Support:  0.005866666666666667\n",
      "Confidence:  0.37288135593220345\n",
      "Lift:  4.700185158809287\n",
      "Leverage:  0.004618488888888889\n",
      "Conviction :  1.4680900900900904\n",
      "=====================================\n",
      "Rule: spaghetti -> frozen vegetables\n",
      "Support:  0.008666666666666666\n",
      "Confidence:  0.3110047846889952\n",
      "Lift:  3.164906221394116\n",
      "Leverage:  0.005928302222222221\n",
      "Conviction :  1.3087657407407405\n",
      "=====================================\n",
      "Rule: milk -> frozen vegetables\n",
      "Support:  0.0048\n",
      "Confidence:  0.20338983050847456\n",
      "Lift:  3.094165778526489\n",
      "Leverage:  0.0032486933333333327\n",
      "Conviction :  1.1728028368794328\n",
      "=====================================\n",
      "Rule: mineral water -> shrimp\n",
      "Support:  0.0072\n",
      "Confidence:  0.3068181818181818\n",
      "Lift:  3.2183725365543547\n",
      "Leverage:  0.004962844444444444\n",
      "Conviction :  1.3050928961748633\n",
      "=====================================\n",
      "Rule: spaghetti -> frozen vegetables\n",
      "Support:  0.005733333333333333\n",
      "Confidence:  0.20574162679425836\n",
      "Lift:  3.1299436124887174\n",
      "Leverage:  0.0039015644444444445\n",
      "Conviction :  1.176275502008032\n",
      "=====================================\n",
      "Rule: spaghetti -> shrimp\n",
      "Support:  0.006\n",
      "Confidence:  0.21531100478468898\n",
      "Lift:  3.0183785717479763\n",
      "Leverage:  0.004012177777777778\n",
      "Conviction :  1.1834837398373983\n",
      "=====================================\n",
      "Rule: spaghetti -> frozen vegetables\n",
      "Support:  0.006666666666666667\n",
      "Confidence:  0.23923444976076555\n",
      "Lift:  3.497579674864993\n",
      "Leverage:  0.004760586666666667\n",
      "Conviction :  1.2245559748427672\n",
      "=====================================\n",
      "Rule: spaghetti -> grated cheese\n",
      "Support:  0.005333333333333333\n",
      "Confidence:  0.3225806451612903\n",
      "Lift:  3.282706701098612\n",
      "Leverage:  0.0037086577777777777\n",
      "Conviction :  1.3311301587301585\n",
      "=====================================\n",
      "Rule: mineral water -> herb & pepper\n",
      "Support:  0.006666666666666667\n",
      "Confidence:  0.390625\n",
      "Lift:  3.975152645861601\n",
      "Leverage:  0.004989582222222223\n",
      "Conviction :  1.4797675213675212\n",
      "=====================================\n",
      "Rule: nan -> herb & pepper\n",
      "Support:  0.016\n",
      "Confidence:  0.3234501347708895\n",
      "Lift:  3.2915549671393096\n",
      "Leverage:  0.011139075555555555\n",
      "Conviction :  1.332840903054449\n",
      "=====================================\n",
      "Rule: spaghetti -> herb & pepper\n",
      "Support:  0.0064\n",
      "Confidence:  0.3934426229508197\n",
      "Lift:  4.003825878061259\n",
      "Leverage:  0.00480152888888889\n",
      "Conviction :  1.4866414414414415\n",
      "=====================================\n",
      "Rule: olive oil -> milk\n",
      "Support:  0.004933333333333333\n",
      "Confidence:  0.22424242424242424\n",
      "Lift:  3.411395906324912\n",
      "Leverage:  0.0034871999999999993\n",
      "Conviction :  1.204328125\n",
      "=====================================\n",
      "Rule: nan -> tomato sauce\n",
      "Support:  0.005333333333333333\n",
      "Confidence:  0.37735849056603776\n",
      "Lift:  3.840147461662528\n",
      "Leverage:  0.003944497777777778\n",
      "Conviction :  1.4482383838383839\n",
      "=====================================\n",
      "Rule: spaghetti -> shrimp\n",
      "Support:  0.006\n",
      "Confidence:  0.5232558139534884\n",
      "Lift:  3.004914704939635\n",
      "Leverage:  0.004003271111111111\n",
      "Conviction :  1.7323056910569106\n",
      "=====================================\n",
      "Rule: spaghetti -> milk\n",
      "Support:  0.0072\n",
      "Confidence:  0.20300751879699247\n",
      "Lift:  3.0883496774390333\n",
      "Leverage:  0.004868657777777777\n",
      "Conviction :  1.172240251572327\n",
      "=====================================\n",
      "Rule: soup -> mineral water\n",
      "Support:  0.0052\n",
      "Confidence:  0.2254335260115607\n",
      "Lift:  3.4295161157945335\n",
      "Leverage:  0.0036837511111111106\n",
      "Conviction :  1.2061800995024876\n",
      "=====================================\n",
      "Rule: nan -> whole wheat pasta\n",
      "Support:  0.008\n",
      "Confidence:  0.2714932126696833\n",
      "Lift:  4.130221288078346\n",
      "Leverage:  0.006063057777777778\n",
      "Conviction :  1.282440579710145\n",
      "=====================================\n",
      "Rule: nan -> pasta\n",
      "Support:  0.005066666666666666\n",
      "Confidence:  0.3220338983050848\n",
      "Lift:  4.514493901473151\n",
      "Leverage:  0.003944355555555556\n",
      "Conviction :  1.3697833333333334\n",
      "=====================================\n",
      "Rule: spaghetti -> pancakes\n",
      "Support:  0.005066666666666666\n",
      "Confidence:  0.20105820105820105\n",
      "Lift:  3.0586947422647217\n",
      "Leverage:  0.0034101866666666663\n",
      "Conviction :  1.1693801324503312\n",
      "=====================================\n",
      "Rule: nan -> shrimp\n",
      "Support:  0.005333333333333333\n",
      "Confidence:  0.23255813953488372\n",
      "Lift:  3.260160834601174\n",
      "Leverage:  0.003697422222222222\n",
      "Conviction :  1.210080808080808\n",
      "=====================================\n",
      "Rule: cooking oil -> spaghetti\n",
      "Support:  0.0048\n",
      "Confidence:  0.5714285714285714\n",
      "Lift:  3.281557646029315\n",
      "Leverage:  0.0033372799999999998\n",
      "Conviction :  1.927022222222222\n",
      "=====================================\n",
      "Rule: nan -> spaghetti\n",
      "Support:  0.008666666666666666\n",
      "Confidence:  0.3110047846889952\n",
      "Lift:  3.164906221394116\n",
      "Leverage:  0.005928302222222221\n",
      "Conviction :  1.3087657407407405\n",
      "=====================================\n",
      "Rule: spaghetti -> milk\n",
      "Support:  0.004533333333333334\n",
      "Confidence:  0.28813559322033905\n",
      "Lift:  3.0224013274860737\n",
      "Leverage:  0.0030334222222222224\n",
      "Conviction :  1.2708412698412699\n",
      "=====================================\n",
      "Rule: nan -> milk\n",
      "Support:  0.0048\n",
      "Confidence:  0.20338983050847456\n",
      "Lift:  3.094165778526489\n",
      "Leverage:  0.0032486933333333327\n",
      "Conviction :  1.1728028368794328\n",
      "=====================================\n",
      "Rule: nan -> mineral water\n",
      "Support:  0.0072\n",
      "Confidence:  0.3068181818181818\n",
      "Lift:  3.2183725365543547\n",
      "Leverage:  0.004962844444444444\n",
      "Conviction :  1.3050928961748633\n",
      "=====================================\n",
      "Rule: nan -> spaghetti\n",
      "Support:  0.005733333333333333\n",
      "Confidence:  0.20574162679425836\n",
      "Lift:  3.1299436124887174\n",
      "Leverage:  0.0039015644444444445\n",
      "Conviction :  1.176275502008032\n",
      "=====================================\n",
      "Rule: nan -> spaghetti\n",
      "Support:  0.006\n",
      "Confidence:  0.21531100478468898\n",
      "Lift:  3.0183785717479763\n",
      "Leverage:  0.004012177777777778\n",
      "Conviction :  1.1834837398373983\n",
      "=====================================\n",
      "Rule: nan -> spaghetti\n",
      "Support:  0.006666666666666667\n",
      "Confidence:  0.23923444976076555\n",
      "Lift:  3.497579674864993\n",
      "Leverage:  0.004760586666666667\n",
      "Conviction :  1.2245559748427672\n",
      "=====================================\n",
      "Rule: nan -> spaghetti\n",
      "Support:  0.005333333333333333\n",
      "Confidence:  0.3225806451612903\n",
      "Lift:  3.282706701098612\n",
      "Leverage:  0.0037086577777777777\n",
      "Conviction :  1.3311301587301585\n",
      "=====================================\n",
      "Rule: nan -> mineral water\n",
      "Support:  0.006666666666666667\n",
      "Confidence:  0.390625\n",
      "Lift:  3.975152645861601\n",
      "Leverage:  0.004989582222222223\n",
      "Conviction :  1.4797675213675212\n",
      "=====================================\n",
      "Rule: nan -> spaghetti\n",
      "Support:  0.0064\n",
      "Confidence:  0.3934426229508197\n",
      "Lift:  4.003825878061259\n",
      "Leverage:  0.00480152888888889\n",
      "Conviction :  1.4866414414414415\n",
      "=====================================\n",
      "Rule: nan -> milk\n",
      "Support:  0.004933333333333333\n",
      "Confidence:  0.22424242424242424\n",
      "Lift:  3.411395906324912\n",
      "Leverage:  0.0034871999999999993\n",
      "Conviction :  1.204328125\n",
      "=====================================\n",
      "Rule: nan -> spaghetti\n",
      "Support:  0.006\n",
      "Confidence:  0.5232558139534884\n",
      "Lift:  3.004914704939635\n",
      "Leverage:  0.004003271111111111\n",
      "Conviction :  1.7323056910569106\n",
      "=====================================\n",
      "Rule: nan -> spaghetti\n",
      "Support:  0.0072\n",
      "Confidence:  0.20300751879699247\n",
      "Lift:  3.0883496774390333\n",
      "Leverage:  0.004868657777777777\n",
      "Conviction :  1.172240251572327\n",
      "=====================================\n",
      "Rule: nan -> soup\n",
      "Support:  0.0052\n",
      "Confidence:  0.2254335260115607\n",
      "Lift:  3.4295161157945335\n",
      "Leverage:  0.0036837511111111106\n",
      "Conviction :  1.2061800995024876\n",
      "=====================================\n",
      "Rule: nan -> spaghetti\n",
      "Support:  0.005066666666666666\n",
      "Confidence:  0.20105820105820105\n",
      "Lift:  3.0586947422647217\n",
      "Leverage:  0.0034101866666666663\n",
      "Conviction :  1.1693801324503312\n",
      "=====================================\n",
      "Rule: nan -> spaghetti\n",
      "Support:  0.004533333333333334\n",
      "Confidence:  0.28813559322033905\n",
      "Lift:  3.0224013274860737\n",
      "Leverage:  0.0030334222222222224\n",
      "Conviction :  1.2708412698412699\n",
      "=====================================\n"
     ]
    }
   ],
   "source": [
    "for item in association_results:\n",
    "\n",
    "    # first index of the inner list\n",
    "    # Contains base item and add item\n",
    "    pair = item[0] \n",
    "    items = [x for x in pair]\n",
    "    confidence =  item[2][0][2]\n",
    "    lift =  item[2][0][3]\n",
    "    print(\"Rule: \" + items[0] + \" -> \" + items[1])\n",
    "\n",
    "    #second index of the inner list\n",
    "    support_AC = item[1]\n",
    "    support_A = support_AC / confidence\n",
    "    support_C = confidence / lift\n",
    "    \n",
    "    leverage = support_AC - support_A*support_C\n",
    "    conviction = (1 - support_C) / (1 - confidence)\n",
    "    \n",
    "    print(\"Support: \" , support_AC)\n",
    "    print(\"Confidence: \" , confidence)\n",
    "    print(\"Lift: \" ,lift)\n",
    "    print(\"Leverage: \" , leverage)\n",
    "    print(\"Conviction : \" , conviction)\n",
    "    print(\"=====================================\")"
   ]
  },
  {
   "cell_type": "markdown",
   "metadata": {},
   "source": [
    "# Naive Bayes Classifiers\n",
    "### Setup and Preprocessing\n",
    "\n",
    "Assumption:\n",
    "\n",
    "The fundamental Naive Bayes assumption is that each feature makes an:\n",
    "\n",
    "independent\n",
    "equal\n",
    "contribution to the outcome.\n",
    "\n",
    "With relation to our dataset, this concept can be understood as:\n",
    "\n",
    "We assume that no pair of features are dependent. For example, the temperature being ‘Hot’ has nothing to do with the humidity or the outlook being ‘Rainy’ has no effect on the winds. Hence, the features are assumed to be independent.\n",
    "Secondly, each feature is given the same weight(or importance). For example, knowing only temperature and humidity alone can’t predict the outcome accuratey. None of the attributes is irrelevant and assumed to be contributing equally to the outcome.\n",
    "\n",
    "Bayes’ Theorem\n",
    "\n",
    "Bayes’ Theorem finds the probability of an event occurring given the probability of another event that has already occurred. "
   ]
  },
  {
   "cell_type": "code",
   "execution_count": 2,
   "metadata": {},
   "outputs": [],
   "source": [
    "import numpy as np\n",
    "\n",
    "from sklearn.model_selection import train_test_split\n",
    "from matplotlib import pyplot as plt\n",
    "from sklearn import metrics"
   ]
  },
  {
   "cell_type": "markdown",
   "metadata": {},
   "source": [
    "### Dataset\n",
    "\n",
    "fictional dataset that describes the weather conditions for playing a game of golf. Given the weather conditions, each tuple classifies the conditions as fit(“Yes”) or unfit(“No”) for plaing golf."
   ]
  },
  {
   "cell_type": "code",
   "execution_count": 3,
   "metadata": {},
   "outputs": [],
   "source": [
    "# Assigning features and label variables\n",
    "weather=['Sunny','Sunny','Overcast','Rainy','Rainy','Rainy','Overcast','Sunny','Sunny',\n",
    "'Rainy','Sunny','Overcast','Overcast','Rainy']\n",
    "temp=['Hot','Hot','Hot','Mild','Cool','Cool','Cool','Mild','Cool','Mild','Mild','Mild','Hot','Mild']\n",
    "\n",
    "play_label=['No','No','Yes','Yes','Yes','No','Yes','No','Yes','Yes','Yes','Yes','Yes','No']\n",
    "play = [int(x=='Yes') for x in play_label]"
   ]
  },
  {
   "cell_type": "code",
   "execution_count": 4,
   "metadata": {},
   "outputs": [
    {
     "name": "stdout",
     "output_type": "stream",
     "text": [
      "[2 2 0 1 1 1 0 2 2 1 2 0 0 1]\n"
     ]
    }
   ],
   "source": [
    "# Import LabelEncoder\n",
    "from sklearn import preprocessing\n",
    "from sklearn.model_selection import train_test_split\n",
    "\n",
    "#creating labelEncoder\n",
    "le = preprocessing.LabelEncoder()\n",
    "# Converting string labels into numbers.\n",
    "weather_encoded=le.fit_transform(weather)\n",
    "print(weather_encoded)"
   ]
  },
  {
   "cell_type": "code",
   "execution_count": 5,
   "metadata": {},
   "outputs": [
    {
     "name": "stdout",
     "output_type": "stream",
     "text": [
      "Temp: [1 1 1 2 0 0 0 2 0 2 2 2 1 2]\n",
      "Play: [0 0 1 1 1 0 1 0 1 1 1 1 1 0]\n"
     ]
    }
   ],
   "source": [
    "# Converting string labels into numbers\n",
    "temp_encoded=le.fit_transform(temp)\n",
    "label=le.fit_transform(play)\n",
    "print(\"Temp:\",temp_encoded)\n",
    "print(\"Play:\",label)"
   ]
  },
  {
   "cell_type": "code",
   "execution_count": 6,
   "metadata": {},
   "outputs": [
    {
     "name": "stdout",
     "output_type": "stream",
     "text": [
      "[(2, 1), (2, 1), (0, 1), (1, 2), (1, 0), (1, 0), (0, 0), (2, 2), (2, 0), (1, 2), (2, 2), (0, 2), (0, 1), (1, 2)]\n"
     ]
    }
   ],
   "source": [
    "#Combinig weather and temp into single listof tuples\n",
    "features= list(zip(weather_encoded,temp_encoded))\n",
    "print(features)\n",
    "X_train, X_test, y_train, y_test =  train_test_split(features, play, random_state=23)"
   ]
  },
  {
   "cell_type": "markdown",
   "metadata": {},
   "source": [
    "### Class distribution of the dataset using histogram plot"
   ]
  },
  {
   "cell_type": "code",
   "execution_count": 7,
   "metadata": {},
   "outputs": [
    {
     "data": {
      "text/plain": [
       "(array([5., 0., 0., 0., 0., 0., 0., 0., 0., 9.]),\n",
       " array([0. , 0.1, 0.2, 0.3, 0.4, 0.5, 0.6, 0.7, 0.8, 0.9, 1. ]),\n",
       " <a list of 10 Patch objects>)"
      ]
     },
     "execution_count": 7,
     "metadata": {},
     "output_type": "execute_result"
    },
    {
     "data": {
      "image/png": "[encoded data removed]",
      "text/plain": [
       "<Figure size 432x288 with 1 Axes>"
      ]
     },
     "metadata": {
      "needs_background": "light"
     },
     "output_type": "display_data"
    }
   ],
   "source": [
    "from matplotlib import pyplot as plt\n",
    "plt.hist(play)"
   ]
  },
  {
   "cell_type": "markdown",
   "metadata": {},
   "source": [
    "### Algorithm"
   ]
  },
  {
   "cell_type": "code",
   "execution_count": 8,
   "metadata": {},
   "outputs": [
    {
     "name": "stdout",
     "output_type": "stream",
     "text": [
      "Predicted Value: [0 0 1 0]\n"
     ]
    }
   ],
   "source": [
    "#Import Gaussian Naive Bayes model\n",
    "from sklearn.naive_bayes import GaussianNB\n",
    "\n",
    "#Create a Gaussian Classifier\n",
    "model = GaussianNB()\n",
    "\n",
    "# Train the model using the training sets\n",
    "model.fit(features,label)\n",
    "\n",
    "#Predict Output\n",
    "predicted= model.predict(X_test) # 0:Overcast, 2:Mild\n",
    "print(\"Predicted Value:\", predicted)"
   ]
  },
  {
   "cell_type": "code",
   "execution_count": 9,
   "metadata": {},
   "outputs": [
    {
     "name": "stdout",
     "output_type": "stream",
     "text": [
      "Mean Accuracy :  1.0\n"
     ]
    }
   ],
   "source": [
    "mean_accuracy = model.score(X_test,predicted)\n",
    "print('Mean Accuracy : ' , mean_accuracy)"
   ]
  },
  {
   "cell_type": "markdown",
   "metadata": {},
   "source": [
    "preds = model.predict(X_test)\n",
    "print('Predicted Class Labels : ',preds)\n",
    "print('Actual Class Labels : ',y_test)\n",
    "\n",
    "plt.scatter(range(len(y_test)),abs(y_test - preds))\n"
   ]
  },
  {
   "cell_type": "code",
   "execution_count": 11,
   "metadata": {},
   "outputs": [],
   "source": [
    "predicted_class_probs = model.predict_proba(X_test)\n"
   ]
  },
  {
   "cell_type": "markdown",
   "metadata": {},
   "source": [
    "### F1 Score\n",
    "<img src=\"https://cdn-images-1.medium.com/max/1600/1*T6kVUKxG_Z4V5Fm1UXhEIw.png\">\n"
   ]
  },
  {
   "cell_type": "code",
   "execution_count": 12,
   "metadata": {},
   "outputs": [
    {
     "name": "stdout",
     "output_type": "stream",
     "text": [
      "F1 Score :  0.6666666666666666\n"
     ]
    }
   ],
   "source": [
    "f1score = metrics.f1_score(y_test,preds)\n",
    "print('F1 Score : ', f1score)"
   ]
  },
  {
   "cell_type": "markdown",
   "metadata": {},
   "source": [
    "### Classification Report\n",
    "\n",
    "<img src=\"https://cdn-images-1.medium.com/max/1600/1*dXkDleGhA-jjZmZ1BlYKXg.png\">\n",
    "\n",
    "<img src=\"https://cdn-images-1.medium.com/max/1600/1*C3ctNdO0mde9fa1PFsCVqA.png\">\n",
    "\n",
    "\n",
    "Sensitivity (also called the true positive rate, the recall, or probability of detection[1] in some fields) measures the proportion of actual positives that are correctly identified as such (e.g., the percentage of sick people who are correctly identified as having the condition).\n",
    "Specificity (also called the true negative rate) measures the proportion of actual negatives that are correctly identified as such (e.g., the percentage of healthy people who are correctly identified as not having the condition).\n",
    "\n"
   ]
  },
  {
   "cell_type": "code",
   "execution_count": 13,
   "metadata": {},
   "outputs": [
    {
     "name": "stdout",
     "output_type": "stream",
     "text": [
      "              precision    recall  f1-score   support\n",
      "\n",
      "           0       0.67      1.00      0.80         2\n",
      "           1       1.00      0.50      0.67         2\n",
      "\n",
      "   micro avg       0.75      0.75      0.75         4\n",
      "   macro avg       0.83      0.75      0.73         4\n",
      "weighted avg       0.83      0.75      0.73         4\n",
      "\n"
     ]
    }
   ],
   "source": [
    "print(metrics.classification_report(y_test,preds))"
   ]
  },
  {
   "cell_type": "code",
   "execution_count": 14,
   "metadata": {},
   "outputs": [
    {
     "name": "stdout",
     "output_type": "stream",
     "text": [
      "Sensitivity :  0.5\n",
      "Specificity :  1.0\n"
     ]
    }
   ],
   "source": [
    "sensitivity = metrics.recall_score(y_test,preds)\n",
    "specificitiy = metrics.recall_score(y_test,preds,pos_label=0)\n",
    "print('Sensitivity : ',sensitivity)\n",
    "print('Specificity : ',specificitiy)"
   ]
  },
  {
   "cell_type": "markdown",
   "metadata": {},
   "source": [
    "### ROC AUC \n",
    "\n",
    "<img src=\"https://cdn-images-1.medium.com/max/800/1*cktKLm3lw866qoVnnbqWIA.jpeg\">\n"
   ]
  },
  {
   "cell_type": "code",
   "execution_count": 15,
   "metadata": {},
   "outputs": [
    {
     "data": {
      "text/plain": [
       "0.75"
      ]
     },
     "execution_count": 15,
     "metadata": {},
     "output_type": "execute_result"
    }
   ],
   "source": [
    "metrics.roc_auc_score(y_test,preds)"
   ]
  },
  {
   "cell_type": "code",
   "execution_count": null,
   "metadata": {},
   "outputs": [],
   "source": []
  },
  {
   "cell_type": "markdown",
   "metadata": {},
   "source": [
    "# Decision Tree Classifier"
   ]
  },
  {
   "cell_type": "code",
   "execution_count": 53,
   "metadata": {},
   "outputs": [],
   "source": [
    "import numpy as np\n",
    "\n",
    "from sklearn.model_selection import train_test_split\n",
    "from sklearn.datasets import load_iris\n",
    "from sklearn.tree import DecisionTreeClassifier\n",
    "from matplotlib import pyplot as plt\n",
    "from sklearn import metrics"
   ]
  },
  {
   "cell_type": "markdown",
   "metadata": {},
   "source": [
    "### Decision Tree example\n",
    "<img src=\"https://cdn-images-1.medium.com/max/800/1*JLcSfWDgdPFrQuDw8Cvmgw.jpeg\">\n",
    "\n",
    "### Entropy\n",
    "Entropy is degree of randomness of elements or in other words it is measure of impurity. Mathematically, it can be calculated with the help of probability of the items as:\n",
    "\n",
    "<img src=\"https://cdn-images-1.medium.com/max/800/1*1XrdEhvwec6A18xuSz45SA.jpeg\">\n",
    "\n",
    "\n",
    "Information Gain (n) =\n",
    "  Entropy(x) — ([weighted average] * entropy(children for feature))\n",
    "\n",
    "\n"
   ]
  },
  {
   "cell_type": "markdown",
   "metadata": {},
   "source": [
    "### Data Set Characteristics:\n",
    "\n",
    "#### Number of Instances:\n",
    "150 (50 in each of three classes)\n",
    "\n",
    "#### Number of Attributes:\n",
    "4 numeric, predictive attributes and the class\n",
    "\n",
    "#### Attribute Information:  <br>\n",
    "sepal length in cm <br>\n",
    "sepal width in cm  <br>\n",
    "petal length in cm  <br>\n",
    "petal width in cm  <br>\n",
    "\n",
    "#### class: <br>\n",
    "Iris-Setosa  <br>\n",
    "Iris-Versicolour  <br>\n",
    "Iris-Virginica  <br>"
   ]
  },
  {
   "cell_type": "code",
   "execution_count": 54,
   "metadata": {},
   "outputs": [],
   "source": [
    "\n",
    "iris = load_iris()\n",
    "X = iris.data\n",
    "y = iris.target\n",
    "X_train, X_test, y_train, y_test = train_test_split(X, y, random_state=0)\n"
   ]
  },
  {
   "cell_type": "code",
   "execution_count": 56,
   "metadata": {},
   "outputs": [
    {
     "name": "stdout",
     "output_type": "stream",
     "text": [
      "Number of features :  4\n",
      "Number of Class Labels :  3\n"
     ]
    }
   ],
   "source": [
    "print('Number of features : ', len(iris.data[0]))\n",
    "print('Number of Class Labels : ', len(set(iris.target)))"
   ]
  },
  {
   "cell_type": "markdown",
   "metadata": {},
   "source": [
    "#### Distribution\n",
    "The histogram shows that there is no class imbalance problem"
   ]
  },
  {
   "cell_type": "code",
   "execution_count": 55,
   "metadata": {},
   "outputs": [
    {
     "data": {
      "text/plain": [
       "(array([50.,  0.,  0.,  0.,  0., 50.,  0.,  0.,  0., 50.]),\n",
       " array([0. , 0.2, 0.4, 0.6, 0.8, 1. , 1.2, 1.4, 1.6, 1.8, 2. ]),\n",
       " <a list of 10 Patch objects>)"
      ]
     },
     "execution_count": 55,
     "metadata": {},
     "output_type": "execute_result"
    },
    {
     "data": {
      "image/png": "[encoded data removed]",
      "text/plain": [
       "<Figure size 432x288 with 1 Axes>"
      ]
     },
     "metadata": {
      "needs_background": "light"
     },
     "output_type": "display_data"
    }
   ],
   "source": [
    "plt.hist(iris.target)"
   ]
  },
  {
   "cell_type": "code",
   "execution_count": 18,
   "metadata": {},
   "outputs": [],
   "source": [
    "\n",
    "estimator = DecisionTreeClassifier(max_leaf_nodes=3, random_state=0)\n",
    "estimator.fit(X_train, y_train)"
   ]
  },
  {
   "cell_type": "code",
   "execution_count": 24,
   "metadata": {},
   "outputs": [
    {
     "name": "stdout",
     "output_type": "stream",
     "text": [
      "Mean Accuracy :  0.8947368421052632\n"
     ]
    }
   ],
   "source": [
    "mean_accuracy = estimator.score(X_test,y_test)\n",
    "print('Mean Accuracy : ' , mean_accuracy)"
   ]
  },
  {
   "cell_type": "code",
   "execution_count": 97,
   "metadata": {},
   "outputs": [
    {
     "name": "stdout",
     "output_type": "stream",
     "text": [
      "Predicted Class Labels :  [2 1 0 2 0 2 0 1 1 1 2 1 1 1 1 0 1 1 0 0 1 1 0 0 1 0 0 1 1 0 2 1 0 1 2 1 0\n",
      " 2]\n",
      "Actual Class Labels :  [2 1 0 2 0 2 0 1 1 1 2 1 1 1 1 0 1 1 0 0 2 1 0 0 2 0 0 1 1 0 2 1 0 2 2 1 0\n",
      " 1]\n"
     ]
    },
    {
     "data": {
      "text/plain": [
       "<matplotlib.collections.PathCollection at 0x7f86d2be7fd0>"
      ]
     },
     "execution_count": 97,
     "metadata": {},
     "output_type": "execute_result"
    },
    {
     "data": {
      "image/png": "[encoded data removed]",
      "text/plain": [
       "<Figure size 432x288 with 1 Axes>"
      ]
     },
     "metadata": {
      "needs_background": "light"
     },
     "output_type": "display_data"
    }
   ],
   "source": [
    "preds = estimator.predict(X_test)\n",
    "print('Predicted Class Labels : ',preds)\n",
    "print('Actual Class Labels : ',y_test)\n",
    "\n",
    "plt.scatter(range(len(y_test)),abs(y_test - preds))\n"
   ]
  },
  {
   "cell_type": "code",
   "execution_count": 47,
   "metadata": {},
   "outputs": [],
   "source": [
    "predicted_class_probs = estimator.predict_proba(X_test)\n"
   ]
  },
  {
   "cell_type": "code",
   "execution_count": 51,
   "metadata": {},
   "outputs": [
    {
     "name": "stdout",
     "output_type": "stream",
     "text": [
      "F1 Score :  0.8774509803921569\n"
     ]
    }
   ],
   "source": [
    "#F1 Score = 2*(Recall * Precision) / (Recall + Precision)\n",
    "f1score = metrics.f1_score(y_test,preds,average='macro')\n",
    "print('F1 Score : ', f1score)"
   ]
  },
  {
   "cell_type": "code",
   "execution_count": 58,
   "metadata": {},
   "outputs": [
    {
     "name": "stdout",
     "output_type": "stream",
     "text": [
      "              precision    recall  f1-score   support\n",
      "\n",
      "           0       1.00      1.00      1.00        13\n",
      "           1       0.83      0.94      0.88        16\n",
      "           2       0.86      0.67      0.75         9\n",
      "\n",
      "   micro avg       0.89      0.89      0.89        38\n",
      "   macro avg       0.90      0.87      0.88        38\n",
      "weighted avg       0.90      0.89      0.89        38\n",
      "\n"
     ]
    }
   ],
   "source": [
    "print(metrics.classification_report(y_test,preds))"
   ]
  },
  {
   "cell_type": "markdown",
   "metadata": {},
   "source": [
    "#### Sensitivity  and specificity \n",
    " In binary classification, recall of the positive class is also known as “sensitivity”; recall of the negative class is “specificity”.\n",
    " <br>\n",
    " <br>\n",
    " In our problem, these measures does not make sense since there are multiple classes and each of these classes have the same importance.\n",
    " But if we assume that we are interested in class 1 alone, we call this as positive class and the rest as negative class and calculate the scores"
   ]
  },
  {
   "cell_type": "code",
   "execution_count": 91,
   "metadata": {},
   "outputs": [],
   "source": [
    "y_test_modified = [x==1 for x in y_test]\n",
    "y_predicted_modified = [ x==1 for x in preds]"
   ]
  },
  {
   "cell_type": "code",
   "execution_count": 92,
   "metadata": {},
   "outputs": [
    {
     "name": "stdout",
     "output_type": "stream",
     "text": [
      "Sensitivity :  0.9375\n",
      "Specificity :  0.8636363636363636\n"
     ]
    }
   ],
   "source": [
    "sensitivity = metrics.recall_score(y_test_modified,y_predicted_modified)\n",
    "specificitiy = metrics.recall_score(y_test_modified,y_predicted_modified,pos_label=0)\n",
    "print('Sensitivity : ',sensitivity)\n",
    "print('Specificity : ',specificitiy)"
   ]
  },
  {
   "cell_type": "markdown",
   "metadata": {},
   "source": [
    "#### Area under ROC"
   ]
  },
  {
   "cell_type": "code",
   "execution_count": 95,
   "metadata": {},
   "outputs": [
    {
     "data": {
      "text/plain": [
       "0.9005681818181819"
      ]
     },
     "execution_count": 95,
     "metadata": {},
     "output_type": "execute_result"
    }
   ],
   "source": [
    "metrics.roc_auc_score(y_test_modified,y_predicted_modified)"
   ]
  },
  {
   "cell_type": "code",
   "execution_count": null,
   "metadata": {},
   "outputs": [],
   "source": []
  },
  {
   "cell_type": "markdown",
   "metadata": {},
   "source": [
    "# K Means Clustering"
   ]
  },
  {
   "cell_type": "code",
   "execution_count": 48,
   "metadata": {},
   "outputs": [],
   "source": [
    "import matplotlib.pyplot as plt  \n",
    "%matplotlib inline\n",
    "import numpy as np  \n",
    "from sklearn.cluster import KMeans  \n",
    "from sklearn import metrics\n",
    "from collections import Counter\n",
    "from scipy.spatial.distance import pdist,squareform\n"
   ]
  },
  {
   "cell_type": "markdown",
   "metadata": {},
   "source": [
    "### KMeans \n",
    "k-means clustering aims to partition n observations into k clusters in which each observation belongs to the cluster with the nearest mean, serving as a prototype of the cluster. \n",
    "\n",
    "<img src=\"https://upload.wikimedia.org/wikipedia/commons/thumb/1/10/Iris_Flowers_Clustering_kMeans.svg/450px-Iris_Flowers_Clustering_kMeans.svg.png\">\n",
    "\n",
    "\n",
    "\n",
    "\n"
   ]
  },
  {
   "cell_type": "code",
   "execution_count": 16,
   "metadata": {},
   "outputs": [],
   "source": [
    "X = np.array([[5,3],  \n",
    "     [10,15],\n",
    "     [15,12],\n",
    "     [24,10],\n",
    "     [30,45],\n",
    "     [85,70],\n",
    "     [71,80],\n",
    "     [60,78],\n",
    "     [55,52],\n",
    "     [80,91],])"
   ]
  },
  {
   "cell_type": "code",
   "execution_count": 17,
   "metadata": {},
   "outputs": [],
   "source": [
    "true_clusters_labels = [0,0,0,0,0,1,1,1,1,1]"
   ]
  },
  {
   "cell_type": "code",
   "execution_count": 18,
   "metadata": {},
   "outputs": [
    {
     "data": {
      "text/plain": [
       "<matplotlib.collections.PathCollection at 0x7f0d0b3bada0>"
      ]
     },
     "execution_count": 18,
     "metadata": {},
     "output_type": "execute_result"
    },
    {
     "data": {
      "image/png": "[encoded data removed]",
      "text/plain": [
       "<Figure size 432x288 with 1 Axes>"
      ]
     },
     "metadata": {
      "needs_background": "light"
     },
     "output_type": "display_data"
    }
   ],
   "source": [
    "plt.scatter(X[:,0],X[:,1], label='True Position')  "
   ]
  },
  {
   "cell_type": "code",
   "execution_count": 35,
   "metadata": {},
   "outputs": [
    {
     "data": {
      "text/plain": [
       "array([[96.54263307, 18.30956034],\n",
       "       [84.43151071,  7.08801806],\n",
       "       [83.16177006,  5.3141321 ],\n",
       "       [79.09538545, 10.04191217],\n",
       "       [49.68581286, 30.95545186],\n",
       "       [15.38440769, 86.37268087],\n",
       "       [ 5.85491247, 83.10619712],\n",
       "       [10.88485186, 74.74784278],\n",
       "       [26.90501812, 51.80965161],\n",
       "       [19.44942159, 97.31515812]])"
      ]
     },
     "execution_count": 35,
     "metadata": {},
     "output_type": "execute_result"
    }
   ],
   "source": [
    "kmeans = KMeans(n_clusters=2)  \n",
    "distances = kmeans.fit_transform(X)  \n",
    "print(distances)"
   ]
  },
  {
   "cell_type": "code",
   "execution_count": 22,
   "metadata": {},
   "outputs": [
    {
     "data": {
      "text/plain": [
       "<matplotlib.collections.PathCollection at 0x7f0d0b32ba58>"
      ]
     },
     "execution_count": 22,
     "metadata": {},
     "output_type": "execute_result"
    },
    {
     "data": {
      "image/png": "[encoded data removed]",
      "text/plain": [
       "<Figure size 432x288 with 1 Axes>"
      ]
     },
     "metadata": {
      "needs_background": "light"
     },
     "output_type": "display_data"
    }
   ],
   "source": [
    "plt.scatter(X[:,0],X[:,1], c=kmeans.labels_, cmap='rainbow')  "
   ]
  },
  {
   "cell_type": "code",
   "execution_count": 20,
   "metadata": {},
   "outputs": [
    {
     "name": "stdout",
     "output_type": "stream",
     "text": [
      "[[16.8 17. ]\n",
      " [70.2 74.2]]\n"
     ]
    }
   ],
   "source": [
    "print(kmeans.cluster_centers_)  "
   ]
  },
  {
   "cell_type": "code",
   "execution_count": 39,
   "metadata": {},
   "outputs": [
    {
     "name": "stdout",
     "output_type": "stream",
     "text": [
      "[1 1 1 1 1 0 0 0 0 0]\n"
     ]
    }
   ],
   "source": [
    "print(kmeans.labels_)\n",
    "predicted_labels = kmeans.labels_\n",
    "num_of_members = Counter(predicted_labels)"
   ]
  },
  {
   "cell_type": "code",
   "execution_count": 44,
   "metadata": {},
   "outputs": [
    {
     "name": "stdout",
     "output_type": "stream",
     "text": [
      "Cluster Radius :  {1: 14.341814907195907, 0: 15.69572234442198}\n"
     ]
    }
   ],
   "source": [
    "cluster_radius = {x:0 for x in predicted_labels}\n",
    "for distance,label in zip(distances,predicted_labels):\n",
    "    cluster_radius[label] += distance[label]\n",
    "\n",
    "for label in num_of_members:\n",
    "    cluster_radius[label] /= num_of_members[label]\n",
    "print('Cluster Radius : ',cluster_radius)"
   ]
  },
  {
   "cell_type": "code",
   "execution_count": 63,
   "metadata": {},
   "outputs": [
    {
     "name": "stdout",
     "output_type": "stream",
     "text": [
      "Cluster Diameter :  {1: 48.877397639399746, 0: 46.32493928760188}\n"
     ]
    }
   ],
   "source": [
    "#cluster diameter\n",
    "clusters = {x:list() for x in predicted_labels}\n",
    "cluster_diameter = {x:0 for x in predicted_labels}\n",
    "for x,label in zip(X,predicted_labels):\n",
    "    clusters[label].append(list(x))\n",
    "for label in set(predicted_labels):\n",
    "    cluster_diameter[label] = max(pdist(clusters[label]))\n",
    "\n",
    "print('Cluster Diameter : ',cluster_diameter)"
   ]
  },
  {
   "cell_type": "markdown",
   "metadata": {},
   "source": [
    "### Purity of a Cluster\n",
    "<img src=\"https://i.stack.imgur.com/5YcWc.png\">"
   ]
  },
  {
   "cell_type": "code",
   "execution_count": 26,
   "metadata": {},
   "outputs": [],
   "source": [
    "def purity_score(y_true, y_pred):\n",
    "    # compute contingency matrix (also called confusion matrix)\n",
    "    contingency_matrix = metrics.cluster.contingency_matrix(y_true, y_pred)\n",
    "    print(contingency_matrix)\n",
    "    # return purity\n",
    "    return np.sum(np.amax(contingency_matrix, axis=0)) / np.sum(contingency_matrix) "
   ]
  },
  {
   "cell_type": "code",
   "execution_count": 27,
   "metadata": {},
   "outputs": [
    {
     "name": "stdout",
     "output_type": "stream",
     "text": [
      "[[5 0]\n",
      " [0 5]]\n"
     ]
    },
    {
     "data": {
      "text/plain": [
       "1.0"
      ]
     },
     "execution_count": 27,
     "metadata": {},
     "output_type": "execute_result"
    }
   ],
   "source": [
    "purity_score(true_clusters_labels,predicted_labels)"
   ]
  },
  {
   "cell_type": "code",
   "execution_count": null,
   "metadata": {},
   "outputs": [],
   "source": []
  }
 ],
 "metadata": {
  "kernelspec": {
   "display_name": "Python 3",
   "language": "python",
   "name": "python3"
  },
  "language_info": {
   "codemirror_mode": {
    "name": "ipython",
    "version": 3
   },
   "file_extension": ".py",
   "mimetype": "text/x-python",
   "name": "python",
   "nbconvert_exporter": "python",
   "pygments_lexer": "ipython3",
   "version": "3.6.7"
  }
 },
 "nbformat": 4,
 "nbformat_minor": 2
}
